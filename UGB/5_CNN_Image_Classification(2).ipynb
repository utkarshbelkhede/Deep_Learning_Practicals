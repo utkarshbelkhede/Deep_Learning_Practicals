{
  "nbformat": 4,
  "nbformat_minor": 0,
  "metadata": {
    "colab": {
      "provenance": []
    },
    "kernelspec": {
      "name": "python3",
      "display_name": "Python 3"
    },
    "language_info": {
      "name": "python"
    }
  },
  "cells": [
    {
      "cell_type": "code",
      "execution_count": null,
      "metadata": {
        "id": "Kdd_kwYL2RXU"
      },
      "outputs": [],
      "source": [
        "from keras.datasets import cifar10"
      ]
    },
    {
      "cell_type": "code",
      "source": [
        "(X_train, Y_train), (x_test, y_test) = cifar10.load_data()"
      ],
      "metadata": {
        "colab": {
          "base_uri": "https://localhost:8080/"
        },
        "id": "zKJqqmir2alh",
        "outputId": "7b3d5caf-7cda-4399-912d-1c3d26874101"
      },
      "execution_count": null,
      "outputs": [
        {
          "output_type": "stream",
          "name": "stdout",
          "text": [
            "Downloading data from https://www.cs.toronto.edu/~kriz/cifar-10-python.tar.gz\n",
            "170498071/170498071 [==============================] - 2s 0us/step\n"
          ]
        }
      ]
    },
    {
      "cell_type": "code",
      "source": [
        "X_train, x_test = X_train/255, x_test/255\n",
        "\n",
        "# Targets are 2D array\n",
        "Y_train, y_test = Y_train.flatten(), y_test.flatten()"
      ],
      "metadata": {
        "id": "OkhS9VQU2nGf"
      },
      "execution_count": null,
      "outputs": []
    },
    {
      "cell_type": "code",
      "source": [
        "X_train[0].shape"
      ],
      "metadata": {
        "colab": {
          "base_uri": "https://localhost:8080/"
        },
        "id": "T-jOBJ-M2iJn",
        "outputId": "0be9c54a-986f-40b0-ac90-e61dd53a99d9"
      },
      "execution_count": null,
      "outputs": [
        {
          "output_type": "execute_result",
          "data": {
            "text/plain": [
              "(32, 32, 3)"
            ]
          },
          "metadata": {},
          "execution_count": 4
        }
      ]
    },
    {
      "cell_type": "code",
      "source": [
        "Y_train.shape"
      ],
      "metadata": {
        "colab": {
          "base_uri": "https://localhost:8080/"
        },
        "id": "SSGogoSL2siQ",
        "outputId": "d456342f-3910-4f47-b8b2-742a3f9b24c2"
      },
      "execution_count": null,
      "outputs": [
        {
          "output_type": "execute_result",
          "data": {
            "text/plain": [
              "(50000,)"
            ]
          },
          "metadata": {},
          "execution_count": 5
        }
      ]
    },
    {
      "cell_type": "code",
      "source": [
        "# number of Classes\n",
        "K = len(set(Y_train))\n",
        "K"
      ],
      "metadata": {
        "colab": {
          "base_uri": "https://localhost:8080/"
        },
        "id": "aIfvojpn3BpW",
        "outputId": "163323d6-6f3b-4e76-f13d-5bd8d51983ee"
      },
      "execution_count": null,
      "outputs": [
        {
          "output_type": "execute_result",
          "data": {
            "text/plain": [
              "10"
            ]
          },
          "metadata": {},
          "execution_count": 6
        }
      ]
    },
    {
      "cell_type": "code",
      "source": [
        "from keras.models import Sequential\n",
        "from keras.layers import Conv2D, Flatten, Dense, Dropout\n",
        "from keras.activations import relu, softmax\n",
        "from keras.losses import SparseCategoricalCrossentropy\n",
        "from keras.optimizers import Adam\n",
        "from keras.metrics import Accuracy"
      ],
      "metadata": {
        "id": "g8LzYj-F4mSo"
      },
      "execution_count": null,
      "outputs": []
    },
    {
      "cell_type": "code",
      "source": [
        "model = Sequential()\n",
        "\n",
        "model.add(Conv2D(32, (3, 3), strides=2, activation=relu, input_shape=X_train[0].shape))\n",
        "model.add(Conv2D(64, (3, 3), strides=2, activation=relu))\n",
        "model.add(Conv2D(128, (3, 3), strides=2, activation=relu))\n",
        "\n",
        "model.add(Flatten())\n",
        "\n",
        "model.add(Dropout(0.2))\n",
        "\n",
        "model.add(Dense(300, activation=relu))\n",
        "model.add(Dropout(0.2))\n",
        "model.add(Dense(K, activation=softmax))"
      ],
      "metadata": {
        "id": "aXfdoMs_3bCJ"
      },
      "execution_count": null,
      "outputs": []
    },
    {
      "cell_type": "code",
      "source": [
        "model.compile(\n",
        "    optimizer=Adam(0.001),\n",
        "    loss=SparseCategoricalCrossentropy(),\n",
        "    metrics=['accuracy']\n",
        ")"
      ],
      "metadata": {
        "id": "FDLpJhJT4m7t"
      },
      "execution_count": null,
      "outputs": []
    },
    {
      "cell_type": "code",
      "source": [
        "r = model.fit(\n",
        "    X_train,\n",
        "    Y_train,\n",
        "    validation_data=(x_test, y_test),\n",
        "    epochs=5\n",
        ")"
      ],
      "metadata": {
        "colab": {
          "base_uri": "https://localhost:8080/"
        },
        "id": "X0muwbXr4t58",
        "outputId": "9be068d7-6efb-4671-8685-b7a20b04fa1d"
      },
      "execution_count": null,
      "outputs": [
        {
          "output_type": "stream",
          "name": "stdout",
          "text": [
            "Epoch 1/5\n",
            "1563/1563 [==============================] - 45s 29ms/step - loss: 1.5262 - accuracy: 0.4475 - val_loss: 1.2868 - val_accuracy: 0.5363\n",
            "Epoch 2/5\n",
            "1563/1563 [==============================] - 33s 21ms/step - loss: 1.1981 - accuracy: 0.5731 - val_loss: 1.0978 - val_accuracy: 0.6113\n",
            "Epoch 3/5\n",
            "1563/1563 [==============================] - 33s 21ms/step - loss: 1.0538 - accuracy: 0.6259 - val_loss: 1.1035 - val_accuracy: 0.6083\n",
            "Epoch 4/5\n",
            "1563/1563 [==============================] - 43s 27ms/step - loss: 0.9402 - accuracy: 0.6647 - val_loss: 0.9358 - val_accuracy: 0.6692\n",
            "Epoch 5/5\n",
            "1563/1563 [==============================] - 41s 26ms/step - loss: 0.8513 - accuracy: 0.6970 - val_loss: 0.9102 - val_accuracy: 0.6812\n"
          ]
        }
      ]
    },
    {
      "cell_type": "code",
      "source": [
        "import matplotlib.pyplot as plt"
      ],
      "metadata": {
        "id": "dJexOkyd5p8v"
      },
      "execution_count": null,
      "outputs": []
    },
    {
      "cell_type": "code",
      "source": [
        "plt.plot(r.history['loss'], label='loss')\n",
        "plt.plot(r.history['val_loss'], label='val_loss')\n",
        "plt.legend()\n",
        "plt.show()"
      ],
      "metadata": {
        "colab": {
          "base_uri": "https://localhost:8080/",
          "height": 265
        },
        "id": "ZPP2cQC85_XK",
        "outputId": "3fed6660-7269-4032-927e-d167eb8650f3"
      },
      "execution_count": null,
      "outputs": [
        {
          "output_type": "display_data",
          "data": {
            "text/plain": [
              "<Figure size 432x288 with 1 Axes>"
            ],
            "image/png": "[encoded data removed]"
          },
          "metadata": {
            "needs_background": "light"
          }
        }
      ]
    },
    {
      "cell_type": "code",
      "source": [
        "plt.plot(r.history['accuracy'], label='accuracy')\n",
        "plt.plot(r.history['val_accuracy'], label='val_accuracy')\n",
        "plt.legend()\n",
        "plt.show()"
      ],
      "metadata": {
        "colab": {
          "base_uri": "https://localhost:8080/",
          "height": 265
        },
        "id": "uozKjdBk6blA",
        "outputId": "821e994e-f1e9-48a7-9363-23217640effa"
      },
      "execution_count": null,
      "outputs": [
        {
          "output_type": "display_data",
          "data": {
            "text/plain": [
              "<Figure size 432x288 with 1 Axes>"
            ],
            "image/png": "[encoded data removed]"
          },
          "metadata": {
            "needs_background": "light"
          }
        }
      ]
    },
    {
      "cell_type": "markdown",
      "source": [
        "Improve Results"
      ],
      "metadata": {
        "id": "v7wb2J4HBO9J"
      }
    },
    {
      "cell_type": "code",
      "source": [
        "from keras.models import Sequential\n",
        "from keras.layers import Conv2D, Flatten, Dense, Dropout, BatchNormalization, MaxPooling2D\n",
        "from keras.activations import relu, softmax\n",
        "from keras.losses import SparseCategoricalCrossentropy\n",
        "from keras.optimizers import Adam\n",
        "from keras.metrics import Accuracy"
      ],
      "metadata": {
        "id": "fRMm5wBEBlet"
      },
      "execution_count": null,
      "outputs": []
    },
    {
      "cell_type": "code",
      "source": [
        "print(MaxPooling2D.__doc__)"
      ],
      "metadata": {
        "colab": {
          "base_uri": "https://localhost:8080/"
        },
        "id": "awDkuccuCuS0",
        "outputId": "315d2fea-e8f3-489d-e87d-40b5323111ca"
      },
      "execution_count": null,
      "outputs": [
        {
          "output_type": "stream",
          "name": "stdout",
          "text": [
            "Max pooling operation for 2D spatial data.\n",
            "\n",
            "  Downsamples the input along its spatial dimensions (height and width)\n",
            "  by taking the maximum value over an input window\n",
            "  (of size defined by `pool_size`) for each channel of the input.\n",
            "  The window is shifted by `strides` along each dimension.\n",
            "\n",
            "  The resulting output,\n",
            "  when using the `\"valid\"` padding option, has a spatial shape\n",
            "  (number of rows or columns) of:\n",
            "  `output_shape = math.floor((input_shape - pool_size) / strides) + 1`\n",
            "  (when `input_shape >= pool_size`)\n",
            "\n",
            "  The resulting output shape when using the `\"same\"` padding option is:\n",
            "  `output_shape = math.floor((input_shape - 1) / strides) + 1`\n",
            "\n",
            "  For example, for `strides=(1, 1)` and `padding=\"valid\"`:\n",
            "\n",
            "  >>> x = tf.constant([[1., 2., 3.],\n",
            "  ...                  [4., 5., 6.],\n",
            "  ...                  [7., 8., 9.]])\n",
            "  >>> x = tf.reshape(x, [1, 3, 3, 1])\n",
            "  >>> max_pool_2d = tf.keras.layers.MaxPooling2D(pool_size=(2, 2),\n",
            "  ...    strides=(1, 1), padding='valid')\n",
            "  >>> max_pool_2d(x)\n",
            "  <tf.Tensor: shape=(1, 2, 2, 1), dtype=float32, numpy=\n",
            "    array([[[[5.],\n",
            "             [6.]],\n",
            "            [[8.],\n",
            "             [9.]]]], dtype=float32)>\n",
            "\n",
            "  For example, for `strides=(2, 2)` and `padding=\"valid\"`:\n",
            "\n",
            "  >>> x = tf.constant([[1., 2., 3., 4.],\n",
            "  ...                  [5., 6., 7., 8.],\n",
            "  ...                  [9., 10., 11., 12.]])\n",
            "  >>> x = tf.reshape(x, [1, 3, 4, 1])\n",
            "  >>> max_pool_2d = tf.keras.layers.MaxPooling2D(pool_size=(2, 2),\n",
            "  ...    strides=(2, 2), padding='valid')\n",
            "  >>> max_pool_2d(x)\n",
            "  <tf.Tensor: shape=(1, 1, 2, 1), dtype=float32, numpy=\n",
            "    array([[[[6.],\n",
            "             [8.]]]], dtype=float32)>\n",
            "\n",
            "  Usage Example:\n",
            "\n",
            "  >>> input_image = tf.constant([[[[1.], [1.], [2.], [4.]],\n",
            "  ...                            [[2.], [2.], [3.], [2.]],\n",
            "  ...                            [[4.], [1.], [1.], [1.]],\n",
            "  ...                            [[2.], [2.], [1.], [4.]]]])\n",
            "  >>> output = tf.constant([[[[1], [0]],\n",
            "  ...                       [[0], [1]]]])\n",
            "  >>> model = tf.keras.models.Sequential()\n",
            "  >>> model.add(tf.keras.layers.MaxPooling2D(pool_size=(2, 2),\n",
            "  ...    input_shape=(4, 4, 1)))\n",
            "  >>> model.compile('adam', 'mean_squared_error')\n",
            "  >>> model.predict(input_image, steps=1)\n",
            "  array([[[[2.],\n",
            "           [4.]],\n",
            "          [[4.],\n",
            "           [4.]]]], dtype=float32)\n",
            "\n",
            "  For example, for stride=(1, 1) and padding=\"same\":\n",
            "\n",
            "  >>> x = tf.constant([[1., 2., 3.],\n",
            "  ...                  [4., 5., 6.],\n",
            "  ...                  [7., 8., 9.]])\n",
            "  >>> x = tf.reshape(x, [1, 3, 3, 1])\n",
            "  >>> max_pool_2d = tf.keras.layers.MaxPooling2D(pool_size=(2, 2),\n",
            "  ...    strides=(1, 1), padding='same')\n",
            "  >>> max_pool_2d(x)\n",
            "  <tf.Tensor: shape=(1, 3, 3, 1), dtype=float32, numpy=\n",
            "    array([[[[5.],\n",
            "             [6.],\n",
            "             [6.]],\n",
            "            [[8.],\n",
            "             [9.],\n",
            "             [9.]],\n",
            "            [[8.],\n",
            "             [9.],\n",
            "             [9.]]]], dtype=float32)>\n",
            "\n",
            "  Args:\n",
            "    pool_size: integer or tuple of 2 integers,\n",
            "      window size over which to take the maximum.\n",
            "      `(2, 2)` will take the max value over a 2x2 pooling window.\n",
            "      If only one integer is specified, the same window length\n",
            "      will be used for both dimensions.\n",
            "    strides: Integer, tuple of 2 integers, or None.\n",
            "      Strides values.  Specifies how far the pooling window moves\n",
            "      for each pooling step. If None, it will default to `pool_size`.\n",
            "    padding: One of `\"valid\"` or `\"same\"` (case-insensitive).\n",
            "      `\"valid\"` means no padding. `\"same\"` results in padding evenly to\n",
            "      the left/right or up/down of the input such that output has the same\n",
            "      height/width dimension as the input.\n",
            "    data_format: A string,\n",
            "      one of `channels_last` (default) or `channels_first`.\n",
            "      The ordering of the dimensions in the inputs.\n",
            "      `channels_last` corresponds to inputs with shape\n",
            "      `(batch, height, width, channels)` while `channels_first`\n",
            "      corresponds to inputs with shape\n",
            "      `(batch, channels, height, width)`.\n",
            "      It defaults to the `image_data_format` value found in your\n",
            "      Keras config file at `~/.keras/keras.json`.\n",
            "      If you never set it, then it will be \"channels_last\".\n",
            "\n",
            "  Input shape:\n",
            "    - If `data_format='channels_last'`:\n",
            "      4D tensor with shape `(batch_size, rows, cols, channels)`.\n",
            "    - If `data_format='channels_first'`:\n",
            "      4D tensor with shape `(batch_size, channels, rows, cols)`.\n",
            "\n",
            "  Output shape:\n",
            "    - If `data_format='channels_last'`:\n",
            "      4D tensor with shape `(batch_size, pooled_rows, pooled_cols, channels)`.\n",
            "    - If `data_format='channels_first'`:\n",
            "      4D tensor with shape `(batch_size, channels, pooled_rows, pooled_cols)`.\n",
            "\n",
            "  Returns:\n",
            "    A tensor of rank 4 representing the maximum pooled values.  See above for\n",
            "    output shape.\n",
            "  \n"
          ]
        }
      ]
    },
    {
      "cell_type": "code",
      "source": [
        "model = Sequential()\n",
        "\n",
        "model.add(Conv2D(32, (3, 3), strides=2, activation=relu, padding=\"same\", input_shape=X_train[0].shape))\n",
        "model.add(BatchNormalization())\n",
        "model.add(Conv2D(32, (3, 3), strides=2, activation=relu, padding=\"same\"))\n",
        "model.add(BatchNormalization())\n",
        "model.add(MaxPooling2D((2,2)))\n",
        "\n",
        "model.add(Flatten())\n",
        "\n",
        "model.add(Dropout(0.2))\n",
        "\n",
        "model.add(Dense(1024, activation=relu))\n",
        "model.add(Dropout(0.2))\n",
        "model.add(Dense(K, activation=softmax))"
      ],
      "metadata": {
        "id": "X1XMFQZoBM5h"
      },
      "execution_count": null,
      "outputs": []
    },
    {
      "cell_type": "code",
      "source": [
        "model.compile(\n",
        "    optimizer=Adam(0.001),\n",
        "    loss=SparseCategoricalCrossentropy(),\n",
        "    metrics=['accuracy']\n",
        ")"
      ],
      "metadata": {
        "id": "cLsh5snUCkZP"
      },
      "execution_count": null,
      "outputs": []
    },
    {
      "cell_type": "code",
      "source": [
        "r = model.fit(\n",
        "    X_train,\n",
        "    Y_train,\n",
        "    validation_data=(x_test, y_test),\n",
        "    epochs=5\n",
        ")"
      ],
      "metadata": {
        "colab": {
          "base_uri": "https://localhost:8080/"
        },
        "id": "IwqzIQqyXlVc",
        "outputId": "c443af60-f294-40d8-ea6b-907ce5bc4f23"
      },
      "execution_count": null,
      "outputs": [
        {
          "output_type": "stream",
          "name": "stdout",
          "text": [
            "Epoch 1/5\n",
            "1563/1563 [==============================] - 42s 26ms/step - loss: 1.4601 - accuracy: 0.4826 - val_loss: 1.2275 - val_accuracy: 0.5634\n",
            "Epoch 2/5\n",
            "1563/1563 [==============================] - 41s 26ms/step - loss: 1.1722 - accuracy: 0.5852 - val_loss: 1.1614 - val_accuracy: 0.5934\n",
            "Epoch 3/5\n",
            "1563/1563 [==============================] - 40s 25ms/step - loss: 1.0388 - accuracy: 0.6350 - val_loss: 1.0574 - val_accuracy: 0.6307\n",
            "Epoch 4/5\n",
            "1563/1563 [==============================] - 43s 27ms/step - loss: 0.9301 - accuracy: 0.6743 - val_loss: 0.9401 - val_accuracy: 0.6685\n",
            "Epoch 5/5\n",
            "1563/1563 [==============================] - 40s 26ms/step - loss: 0.8398 - accuracy: 0.7061 - val_loss: 0.9825 - val_accuracy: 0.6645\n"
          ]
        }
      ]
    },
    {
      "cell_type": "code",
      "source": [
        "plt.plot(r.history['loss'], label='loss')\n",
        "plt.plot(r.history['val_loss'], label='val_loss')\n",
        "plt.legend()\n",
        "plt.show()"
      ],
      "metadata": {
        "colab": {
          "base_uri": "https://localhost:8080/",
          "height": 265
        },
        "id": "83Xw9vjKXoGI",
        "outputId": "5c9c7577-71d0-4cb9-b25f-3355798acccb"
      },
      "execution_count": null,
      "outputs": [
        {
          "output_type": "display_data",
          "data": {
            "text/plain": [
              "<Figure size 432x288 with 1 Axes>"
            ],
            "image/png": "[encoded data removed]"
          },
          "metadata": {
            "needs_background": "light"
          }
        }
      ]
    },
    {
      "cell_type": "code",
      "source": [
        "plt.plot(r.history['accuracy'], label='accuracy')\n",
        "plt.plot(r.history['val_accuracy'], label='val_accuracy')\n",
        "plt.legend()\n",
        "plt.show()"
      ],
      "metadata": {
        "colab": {
          "base_uri": "https://localhost:8080/",
          "height": 265
        },
        "id": "-m_WO_LgXqKp",
        "outputId": "ee1b573e-b8db-4e4f-8921-3b34663afd20"
      },
      "execution_count": null,
      "outputs": [
        {
          "output_type": "display_data",
          "data": {
            "text/plain": [
              "<Figure size 432x288 with 1 Axes>"
            ],
            "image/png": "[encoded data removed]"
          },
          "metadata": {
            "needs_background": "light"
          }
        }
      ]
    },
    {
      "cell_type": "markdown",
      "source": [
        "Image Generator"
      ],
      "metadata": {
        "id": "5xpG6Dstt_0_"
      }
    },
    {
      "cell_type": "code",
      "source": [
        "model = Sequential()\n",
        "\n",
        "model.add(Conv2D(32, (3, 3), strides=2, activation=relu, padding=\"same\", input_shape=X_train[0].shape))\n",
        "model.add(BatchNormalization())\n",
        "model.add(Conv2D(32, (3, 3), strides=2, activation=relu, padding=\"same\"))\n",
        "model.add(BatchNormalization())\n",
        "model.add(MaxPooling2D((2,2)))\n",
        "\n",
        "model.add(Flatten())\n",
        "\n",
        "model.add(Dropout(0.2))\n",
        "\n",
        "model.add(Dense(1024, activation=relu))\n",
        "model.add(Dropout(0.2))\n",
        "model.add(Dense(K, activation=softmax))"
      ],
      "metadata": {
        "id": "fyrVt5-aYe4x"
      },
      "execution_count": null,
      "outputs": []
    },
    {
      "cell_type": "code",
      "source": [
        "model.compile(\n",
        "    optimizer=Adam(0.001),\n",
        "    loss=SparseCategoricalCrossentropy(),\n",
        "    metrics=['accuracy']\n",
        ")"
      ],
      "metadata": {
        "id": "d9ZZQtzLuErc"
      },
      "execution_count": null,
      "outputs": []
    },
    {
      "cell_type": "code",
      "source": [
        "from keras.preprocessing.image import ImageDataGenerator\n",
        "\n",
        "batch_size = 32\n",
        "\n",
        "data_generator = ImageDataGenerator(\n",
        "    width_shift_range=0.1,\n",
        "    height_shift_range=0.1,\n",
        "    horizontal_flip=True\n",
        ")\n",
        "\n",
        "train_generator = data_generator.flow(X_train, Y_train, batch_size)\n",
        "\n",
        "steps_per_epoch = X_train.shape[0] // batch_size\n",
        "steps_per_epoch"
      ],
      "metadata": {
        "colab": {
          "base_uri": "https://localhost:8080/"
        },
        "id": "v4WjS6zhuHSO",
        "outputId": "dd259809-025c-4d14-fa77-ac6ee0d13982"
      },
      "execution_count": null,
      "outputs": [
        {
          "output_type": "execute_result",
          "data": {
            "text/plain": [
              "1562"
            ]
          },
          "metadata": {},
          "execution_count": 35
        }
      ]
    },
    {
      "cell_type": "code",
      "source": [
        "r = model.fit_generator(\n",
        "    train_generator,\n",
        "    validation_data=(x_test, y_test),\n",
        "    steps_per_epoch=steps_per_epoch,\n",
        "    epochs=5\n",
        ")"
      ],
      "metadata": {
        "colab": {
          "base_uri": "https://localhost:8080/"
        },
        "id": "xQmnmzm_vWqA",
        "outputId": "77144ed8-8e5b-42fa-96b3-dc7c65f3be96"
      },
      "execution_count": null,
      "outputs": [
        {
          "output_type": "stream",
          "name": "stdout",
          "text": [
            "Epoch 1/5\n"
          ]
        },
        {
          "output_type": "stream",
          "name": "stderr",
          "text": [
            "<ipython-input-36-8ef34fd6e9f7>:1: UserWarning: `Model.fit_generator` is deprecated and will be removed in a future version. Please use `Model.fit`, which supports generators.\n",
            "  r = model.fit_generator(\n"
          ]
        },
        {
          "output_type": "stream",
          "name": "stdout",
          "text": [
            "1562/1562 [==============================] - 69s 44ms/step - loss: 1.5475 - accuracy: 0.4491 - val_loss: 1.3205 - val_accuracy: 0.5265\n",
            "Epoch 2/5\n",
            "1562/1562 [==============================] - 62s 40ms/step - loss: 1.3176 - accuracy: 0.5304 - val_loss: 1.2021 - val_accuracy: 0.5679\n",
            "Epoch 3/5\n",
            "1562/1562 [==============================] - 64s 41ms/step - loss: 1.2227 - accuracy: 0.5658 - val_loss: 1.1181 - val_accuracy: 0.5990\n",
            "Epoch 4/5\n",
            "1562/1562 [==============================] - 66s 42ms/step - loss: 1.1691 - accuracy: 0.5861 - val_loss: 1.1000 - val_accuracy: 0.6156\n",
            "Epoch 5/5\n",
            "1562/1562 [==============================] - 62s 40ms/step - loss: 1.1198 - accuracy: 0.6058 - val_loss: 1.0073 - val_accuracy: 0.6434\n"
          ]
        }
      ]
    },
    {
      "cell_type": "code",
      "source": [
        "plt.plot(r.history['loss'], label='loss')\n",
        "plt.plot(r.history['val_loss'], label='val_loss')\n",
        "plt.legend()\n",
        "plt.show()"
      ],
      "metadata": {
        "colab": {
          "base_uri": "https://localhost:8080/",
          "height": 265
        },
        "id": "vPWi8EMGyKWD",
        "outputId": "737975c8-524e-49e1-fdaa-6fa3934088df"
      },
      "execution_count": null,
      "outputs": [
        {
          "output_type": "display_data",
          "data": {
            "text/plain": [
              "<Figure size 432x288 with 1 Axes>"
            ],
            "image/png": "[encoded data removed]"
          },
          "metadata": {
            "needs_background": "light"
          }
        }
      ]
    },
    {
      "cell_type": "code",
      "source": [
        "plt.plot(r.history['accuracy'], label='accuracy')\n",
        "plt.plot(r.history['val_accuracy'], label='val_accuracy')\n",
        "plt.legend()\n",
        "plt.show()"
      ],
      "metadata": {
        "colab": {
          "base_uri": "https://localhost:8080/",
          "height": 266
        },
        "id": "8TBaPjEPycZD",
        "outputId": "1228b6b9-7b2f-41f5-8445-657dda4cd67c"
      },
      "execution_count": null,
      "outputs": [
        {
          "output_type": "display_data",
          "data": {
            "text/plain": [
              "<Figure size 432x288 with 1 Axes>"
            ],
            "image/png": "[encoded data removed]"
          },
          "metadata": {
            "needs_background": "light"
          }
        }
      ]
    }
  ]
}