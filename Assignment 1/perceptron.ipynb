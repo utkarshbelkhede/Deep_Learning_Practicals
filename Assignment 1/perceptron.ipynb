{
 "cells": [
  {
   "cell_type": "code",
   "execution_count": 1,
   "metadata": {},
   "outputs": [],
   "source": [
    "import numpy as np\n",
    "from math import exp\n",
    "from random import seed\n",
    "from random import random\n",
    "from tabulate import tabulate"
   ]
  },
  {
   "cell_type": "markdown",
   "metadata": {},
   "source": [
    "Let us create the dataset\n",
    "It is nothing but the OR Gate"
   ]
  },
  {
   "cell_type": "code",
   "execution_count": 2,
   "metadata": {},
   "outputs": [
    {
     "name": "stdout",
     "output_type": "stream",
     "text": [
      "[[1, 1], [1, 0], [0, 1], [0, 0]]\n"
     ]
    }
   ],
   "source": [
    "seed(1)\n",
    "\n",
    "x = [\n",
    "    [1,1],\n",
    "    [1,0],\n",
    "    [0,1],\n",
    "    [0,0]\n",
    "]\n",
    "\n",
    "print(x)"
   ]
  },
  {
   "cell_type": "code",
   "execution_count": 3,
   "metadata": {},
   "outputs": [
    {
     "name": "stdout",
     "output_type": "stream",
     "text": [
      "[ 1 -1 -1 -1]\n"
     ]
    }
   ],
   "source": [
    "#t = np.array([1,1,1,-1])\n",
    "t = np.array([1,-1,-1,-1])\n",
    "print(t)"
   ]
  },
  {
   "cell_type": "code",
   "execution_count": 7,
   "metadata": {},
   "outputs": [
    {
     "name": "stdout",
     "output_type": "stream",
     "text": [
      "[0. 0.]\n",
      "[0 0 0 0]\n"
     ]
    }
   ],
   "source": [
    "w = np.zeros(2)\n",
    "print(w)\n",
    "\n",
    "b = 0\n",
    "eta = 1\n",
    "\n",
    "yin = np.array([0,0,0,0])\n",
    "print(yin)"
   ]
  },
  {
   "cell_type": "code",
   "execution_count": 5,
   "metadata": {},
   "outputs": [],
   "source": [
    "w = np.zeros(len(x[0]))\n",
    "yin = np.zeros(len(x))\n"
   ]
  },
  {
   "cell_type": "code",
   "execution_count": null,
   "metadata": {},
   "outputs": [],
   "source": []
  },
  {
   "cell_type": "code",
   "execution_count": 6,
   "metadata": {},
   "outputs": [
    {
     "ename": "IndentationError",
     "evalue": "expected an indented block (770053750.py, line 2)",
     "output_type": "error",
     "traceback": [
      "\u001b[1;36m  Input \u001b[1;32mIn [6]\u001b[1;36m\u001b[0m\n\u001b[1;33m    \u001b[0m\n\u001b[1;37m    ^\u001b[0m\n\u001b[1;31mIndentationError\u001b[0m\u001b[1;31m:\u001b[0m expected an indented block\n"
     ]
    }
   ],
   "source": [
    "def train(x, t, b, eta, threshold, no_of_epoch):\n",
    "    "
   ]
  },
  {
   "cell_type": "markdown",
   "metadata": {},
   "source": [
    "method to update the weights\n",
    "\n",
    "Why temp yin?\n",
    "We have to apply activate function."
   ]
  },
  {
   "cell_type": "markdown",
   "metadata": {},
   "source": [
    "The training Method"
   ]
  },
  {
   "cell_type": "code",
   "execution_count": null,
   "metadata": {},
   "outputs": [
    {
     "name": "stdout",
     "output_type": "stream",
     "text": [
      "\u001b[1mEpoch: 1 \u001b[0m\n",
      "+----+----+-----+-----+----+----+----+\n",
      "| x1 | x2 | w1  | w2  | b  | y  | t  |\n",
      "+----+----+-----+-----+----+----+----+\n",
      "| 1  | 1  | 1.0 | 1.0 | 1  | -1 | 1  |\n",
      "| 1  | 0  | 0.0 | 1.0 | 0  | 1  | -1 |\n",
      "| 0  | 1  | 0.0 | 0.0 | -1 | 1  | -1 |\n",
      "| 0  | 0  | 0.0 | 0.0 | -1 | -1 | -1 |\n",
      "+----+----+-----+-----+----+----+----+\n",
      "\u001b[1mEpoch: 2 \u001b[0m\n",
      "+----+----+-----+-----+----+----+----+\n",
      "| x1 | x2 | w1  | w2  | b  | y  | t  |\n",
      "+----+----+-----+-----+----+----+----+\n",
      "| 1  | 1  | 1.0 | 1.0 | 0  | -1 | 1  |\n",
      "| 1  | 0  | 0.0 | 1.0 | -1 | 1  | -1 |\n",
      "| 0  | 1  | 0.0 | 1.0 | -1 | -1 | -1 |\n",
      "| 0  | 0  | 0.0 | 1.0 | -1 | -1 | -1 |\n",
      "+----+----+-----+-----+----+----+----+\n",
      "\u001b[1mEpoch: 3 \u001b[0m\n",
      "+----+----+-----+-----+----+----+----+\n",
      "| x1 | x2 | w1  | w2  | b  | y  | t  |\n",
      "+----+----+-----+-----+----+----+----+\n",
      "| 1  | 1  | 1.0 | 2.0 | 0  | -1 | 1  |\n",
      "| 1  | 0  | 0.0 | 2.0 | -1 | 1  | -1 |\n",
      "| 0  | 1  | 0.0 | 1.0 | -2 | 1  | -1 |\n",
      "| 0  | 0  | 0.0 | 1.0 | -2 | -1 | -1 |\n",
      "+----+----+-----+-----+----+----+----+\n",
      "\u001b[1mEpoch: 4 \u001b[0m\n",
      "+----+----+-----+-----+----+----+----+\n",
      "| x1 | x2 | w1  | w2  | b  | y  | t  |\n",
      "+----+----+-----+-----+----+----+----+\n",
      "| 1  | 1  | 1.0 | 2.0 | -1 | -1 | 1  |\n",
      "| 1  | 0  | 1.0 | 2.0 | -1 | -1 | -1 |\n",
      "| 0  | 1  | 1.0 | 1.0 | -2 | 1  | -1 |\n",
      "| 0  | 0  | 1.0 | 1.0 | -2 | -1 | -1 |\n",
      "+----+----+-----+-----+----+----+----+\n",
      "\u001b[1mEpoch: 5 \u001b[0m\n",
      "+----+----+-----+-----+----+----+----+\n",
      "| x1 | x2 | w1  | w2  | b  | y  | t  |\n",
      "+----+----+-----+-----+----+----+----+\n",
      "| 1  | 1  | 2.0 | 2.0 | -1 | -1 | 1  |\n",
      "| 1  | 0  | 1.0 | 2.0 | -2 | 1  | -1 |\n",
      "| 0  | 1  | 1.0 | 2.0 | -2 | -1 | -1 |\n",
      "| 0  | 0  | 1.0 | 2.0 | -2 | -1 | -1 |\n",
      "+----+----+-----+-----+----+----+----+\n",
      "\u001b[1mEpoch: 6 \u001b[0m\n",
      "+----+----+-----+-----+----+----+----+\n",
      "| x1 | x2 | w1  | w2  | b  | y  | t  |\n",
      "+----+----+-----+-----+----+----+----+\n",
      "| 1  | 1  | 1.0 | 2.0 | -2 | 1  | 1  |\n",
      "| 1  | 0  | 1.0 | 2.0 | -2 | -1 | -1 |\n",
      "| 0  | 1  | 1.0 | 2.0 | -2 | -1 | -1 |\n",
      "| 0  | 0  | 1.0 | 2.0 | -2 | -1 | -1 |\n",
      "+----+----+-----+-----+----+----+----+\n"
     ]
    }
   ],
   "source": [
    "for j in range(6):\n",
    "    row = []\n",
    "    print(\"\\033[1mEpoch:\", j+1, \"\\033[0m\")\n",
    "    row.append([\"x1\", \"x2\", \"w1\", \"w2\", \"b\", \"y\", \"t\"])\n",
    "\n",
    "    for i in range(0,4):\n",
    "        yin[i] = b + (x[i][0] * w[0]) + (x[i][1]*w[1])\n",
    "        # when yin is > than 0.2 it will return 1 else -1\n",
    "        yin[i] = np.where(yin[i] > 0.2, 1, -1)\n",
    "\n",
    "        # cheaking values with target\n",
    "\n",
    "        if(t[i] != yin[i]):\n",
    "            w[0] = w[0] + eta * x[i][0] * t[i]\n",
    "            w[1] = w[1] + eta * x[i][1] * t[i]\n",
    "\n",
    "            b = b + eta * t[i]\n",
    "\n",
    "        row.append([x[i][0],x[i][1],w[0],w[1],b,yin[i],t[i]]) \n",
    "    \n",
    "    print(tabulate(row,headers=\"firstrow\",tablefmt=\"pretty\"))"
   ]
  }
 ],
 "metadata": {
  "kernelspec": {
   "display_name": "Python 3.9.12 ('base')",
   "language": "python",
   "name": "python3"
  },
  "language_info": {
   "codemirror_mode": {
    "name": "ipython",
    "version": 3
   },
   "file_extension": ".py",
   "mimetype": "text/x-python",
   "name": "python",
   "nbconvert_exporter": "python",
   "pygments_lexer": "ipython3",
   "version": "3.9.12"
  },
  "orig_nbformat": 4,
  "vscode": {
   "interpreter": {
    "hash": "ad2bdc8ecc057115af97d19610ffacc2b4e99fae6737bb82f5d7fb13d2f2c186"
   }
  }
 },
 "nbformat": 4,
 "nbformat_minor": 2
}
