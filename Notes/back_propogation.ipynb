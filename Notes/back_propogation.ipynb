{
 "cells": [
  {
   "cell_type": "code",
   "execution_count": 1,
   "metadata": {},
   "outputs": [],
   "source": [
    "from math import exp\n",
    "from random import seed, random"
   ]
  },
  {
   "cell_type": "markdown",
   "metadata": {},
   "source": [
    "Initilize a Network"
   ]
  },
  {
   "cell_type": "code",
   "execution_count": 2,
   "metadata": {},
   "outputs": [],
   "source": [
    "def initilize_network(n_inputs, n_hidden, n_output):\n",
    "    network = list()\n",
    "\n",
    "    hidden_layer = [{'weight':[random() for i in range(n_inputs + 1)]} for i in range(n_hidden)]\n",
    "    network.append(hidden_layer)\n",
    "\n",
    "    print(\"h\", hidden_layer)\n",
    "\n",
    "    output_layer = [{'weight':[random() for i in range(n_hidden + 1)]} for i in range(n_output)]\n",
    "    network.append(output_layer)\n",
    "\n",
    "    print(\"O\", output_layer)\n",
    "\n",
    "    return network"
   ]
  },
  {
   "cell_type": "code",
   "execution_count": 3,
   "metadata": {},
   "outputs": [
    {
     "name": "stdout",
     "output_type": "stream",
     "text": [
      "h [{'weight': [0.9317916985696156, 0.7420328468663683, 0.4015546292778822, 0.23195684136449402]}, {'weight': [0.43166061989158355, 0.869304183940008, 0.15569257474787224, 0.800075922383869]}, {'weight': [0.058896930164798245, 0.7683533618532011, 0.41092844183614075, 0.8889003386691174]}]\n",
      "O [{'weight': [0.3379335727627698, 0.6956937786367885, 0.8998701231810071, 0.5741218445860473]}]\n",
      "[[{'weight': [0.9317916985696156, 0.7420328468663683, 0.4015546292778822, 0.23195684136449402]}, {'weight': [0.43166061989158355, 0.869304183940008, 0.15569257474787224, 0.800075922383869]}, {'weight': [0.058896930164798245, 0.7683533618532011, 0.41092844183614075, 0.8889003386691174]}], [{'weight': [0.3379335727627698, 0.6956937786367885, 0.8998701231810071, 0.5741218445860473]}]]\n"
     ]
    }
   ],
   "source": [
    "n = initilize_network(3, 3, 1)\n",
    "print(n)"
   ]
  },
  {
   "cell_type": "code",
   "execution_count": 4,
   "metadata": {},
   "outputs": [],
   "source": [
    "def activate(weights, inputs):\n",
    "    bias = weights[-1]\n",
    "    for i in range(len(weights) - 1 ):\n",
    "        activation = bias + (weights[i] * inputs[i])\n",
    "\n",
    "    return activation"
   ]
  },
  {
   "cell_type": "code",
   "execution_count": 5,
   "metadata": {},
   "outputs": [],
   "source": [
    "def transfer(activation):\n",
    "    return 1.0 / (1.0 + exp(-activation))"
   ]
  },
  {
   "cell_type": "markdown",
   "metadata": {},
   "source": [
    "the forward pass"
   ]
  },
  {
   "cell_type": "code",
   "execution_count": 6,
   "metadata": {},
   "outputs": [],
   "source": [
    "def forward_propagate(network, x):\n",
    "    inputs = x\n",
    "\n",
    "    for layer in network:\n",
    "        new_inputs = []\n",
    "\n",
    "        for neuron in layer:\n",
    "            activation = activate(neuron['weights'], inputs)\n",
    "\n",
    "            neuron['output'] = transfer(activation)\n",
    "\n",
    "            new_inputs.append(neuron['output'])\n",
    "        inputs = new_inputs\n",
    "    \n",
    "    return inputs"
   ]
  },
  {
   "cell_type": "code",
   "execution_count": 7,
   "metadata": {},
   "outputs": [],
   "source": [
    "def transfer_derivative(output):\n",
    "    return output * (1.0 - output)"
   ]
  },
  {
   "cell_type": "code",
   "execution_count": 8,
   "metadata": {},
   "outputs": [],
   "source": [
    "def backward_propagate_error(network, expected):\n",
    "    for i in reversed(range(len(network))):\n",
    "        layer = network[i]\n",
    "        errors = list()\n",
    "\n",
    "        if i != len(network)-1:\n",
    "            for j in range(len(layer)):\n",
    "                error = 0.0\n",
    "\n",
    "                for neuron in network[i+1]:\n",
    "                    error += (neuron['weight'][j] * neuron['delta'])\n",
    "                    errors.append(error)\n",
    "        \n",
    "        else:\n",
    "            for j in range(len(layer)):\n",
    "                neuron = layer[j]\n",
    "                errors.append(expected[j] - neuron['output'])\n",
    "        \n",
    "        for j in range(len(layer)):\n",
    "            neuron = layer[j]\n",
    "            neuron['delta'] = errors[j] * transfer_derivative(neuron['output'])"
   ]
  },
  {
   "cell_type": "code",
   "execution_count": null,
   "metadata": {},
   "outputs": [],
   "source": [
    "def update_weights(network, row, l_rate):\n",
    "\n",
    "    for i in range(len(network)):\n",
    "        inputs = row[:-1]\n",
    "\n",
    "        if i != 0:\n",
    "            inputs"
   ]
  }
 ],
 "metadata": {
  "kernelspec": {
   "display_name": "Python 3.10.6 64-bit",
   "language": "python",
   "name": "python3"
  },
  "language_info": {
   "codemirror_mode": {
    "name": "ipython",
    "version": 3
   },
   "file_extension": ".py",
   "mimetype": "text/x-python",
   "name": "python",
   "nbconvert_exporter": "python",
   "pygments_lexer": "ipython3",
   "version": "3.10.6"
  },
  "orig_nbformat": 4,
  "vscode": {
   "interpreter": {
    "hash": "26de051ba29f2982a8de78e945f0abaf191376122a1563185a90213a26c5da77"
   }
  }
 },
 "nbformat": 4,
 "nbformat_minor": 2
}
