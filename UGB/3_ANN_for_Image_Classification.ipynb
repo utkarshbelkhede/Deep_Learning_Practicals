{
  "nbformat": 4,
  "nbformat_minor": 0,
  "metadata": {
    "colab": {
      "provenance": []
    },
    "kernelspec": {
      "name": "python3",
      "display_name": "Python 3"
    },
    "language_info": {
      "name": "python"
    },
    "accelerator": "GPU",
    "gpuClass": "standard"
  },
  "cells": [
    {
      "cell_type": "code",
      "execution_count": null,
      "metadata": {
        "id": "uVbYzHMJMXMD"
      },
      "outputs": [],
      "source": [
        "from keras.datasets import mnist"
      ]
    },
    {
      "cell_type": "code",
      "source": [
        "(X_train, Y_train), (x_test, y_test) = mnist.load_data()"
      ],
      "metadata": {
        "id": "U4FEIvD5SDav",
        "colab": {
          "base_uri": "https://localhost:8080/"
        },
        "outputId": "a8bdbbd8-fc77-41a6-af12-352227cfc34b"
      },
      "execution_count": null,
      "outputs": [
        {
          "output_type": "stream",
          "name": "stdout",
          "text": [
            "Downloading data from https://storage.googleapis.com/tensorflow/tf-keras-datasets/mnist.npz\n",
            "11490434/11490434 [==============================] - 2s 0us/step\n"
          ]
        }
      ]
    },
    {
      "cell_type": "code",
      "source": [
        "X_train[0].shape"
      ],
      "metadata": {
        "colab": {
          "base_uri": "https://localhost:8080/"
        },
        "id": "vuoqcaINuWnm",
        "outputId": "59c298ec-2c99-41d5-b211-c59e22c2adec"
      },
      "execution_count": null,
      "outputs": [
        {
          "output_type": "execute_result",
          "data": {
            "text/plain": [
              "(28, 28)"
            ]
          },
          "metadata": {},
          "execution_count": 4
        }
      ]
    },
    {
      "cell_type": "code",
      "source": [
        "N, H, W = X_train.shape\n",
        "CATEGORIES = len(set(Y_train))"
      ],
      "metadata": {
        "id": "w7zefiG8SNkI"
      },
      "execution_count": null,
      "outputs": []
    },
    {
      "cell_type": "code",
      "source": [
        "from keras.models import Sequential\n",
        "from keras.layers import Dense, Flatten, Dropout\n",
        "from keras.optimizers import Adam"
      ],
      "metadata": {
        "id": "XGNsQS7RjX1S"
      },
      "execution_count": null,
      "outputs": []
    },
    {
      "cell_type": "code",
      "source": [
        "model = Sequential()\n",
        "\n",
        "model.add(Flatten(input_shape=(H, W)))\n",
        "model.add(Dense(128, activation='relu'))\n",
        "model.add(Dropout(0.2))\n",
        "model.add(Dense(CATEGORIES, activation='softmax'))\n",
        "\n",
        "model.compile(\n",
        "    optimizer=Adam(0.01), \n",
        "    loss='sparse_categorical_crossentropy',\n",
        "    metrics=['accuracy']\n",
        ")"
      ],
      "metadata": {
        "id": "XVW4OBing9tT"
      },
      "execution_count": null,
      "outputs": []
    },
    {
      "cell_type": "code",
      "source": [
        "r = model.fit(\n",
        "    X_train, \n",
        "    Y_train, \n",
        "    validation_data=(x_test, y_test),\n",
        "    epochs=10\n",
        "  )"
      ],
      "metadata": {
        "colab": {
          "base_uri": "https://localhost:8080/"
        },
        "id": "RolbBee-mM_a",
        "outputId": "9bde2f64-4070-4bce-a15a-b1d60acaa5ca"
      },
      "execution_count": null,
      "outputs": [
        {
          "output_type": "stream",
          "name": "stdout",
          "text": [
            "Epoch 1/10\n",
            "1875/1875 [==============================] - 16s 8ms/step - loss: 3.1474 - accuracy: 0.4266 - val_loss: 1.9988 - val_accuracy: 0.2696\n",
            "Epoch 2/10\n",
            "1875/1875 [==============================] - 7s 4ms/step - loss: 2.1466 - accuracy: 0.2070 - val_loss: 2.0704 - val_accuracy: 0.1972\n",
            "Epoch 3/10\n",
            "1875/1875 [==============================] - 7s 4ms/step - loss: 2.1817 - accuracy: 0.1738 - val_loss: 2.1323 - val_accuracy: 0.1716\n",
            "Epoch 4/10\n",
            "1875/1875 [==============================] - 7s 4ms/step - loss: 2.1454 - accuracy: 0.1751 - val_loss: 2.1038 - val_accuracy: 0.1886\n",
            "Epoch 5/10\n",
            "1875/1875 [==============================] - 7s 4ms/step - loss: 2.1937 - accuracy: 0.1752 - val_loss: 2.1234 - val_accuracy: 0.1939\n",
            "Epoch 6/10\n",
            "1875/1875 [==============================] - 7s 4ms/step - loss: 2.1539 - accuracy: 0.1686 - val_loss: 2.1254 - val_accuracy: 0.2023\n",
            "Epoch 7/10\n",
            "1875/1875 [==============================] - 7s 4ms/step - loss: 2.1148 - accuracy: 0.1840 - val_loss: 2.1864 - val_accuracy: 0.1805\n",
            "Epoch 8/10\n",
            "1875/1875 [==============================] - 7s 3ms/step - loss: 2.1533 - accuracy: 0.1799 - val_loss: 2.0818 - val_accuracy: 0.1978\n",
            "Epoch 9/10\n",
            "1875/1875 [==============================] - 7s 4ms/step - loss: 2.1572 - accuracy: 0.1768 - val_loss: 2.0556 - val_accuracy: 0.2359\n",
            "Epoch 10/10\n",
            "1875/1875 [==============================] - 6s 3ms/step - loss: 2.0990 - accuracy: 0.1948 - val_loss: 2.2103 - val_accuracy: 0.2266\n"
          ]
        }
      ]
    },
    {
      "cell_type": "code",
      "source": [
        "import matplotlib.pyplot as plt\n",
        "\n",
        "plt.plot(r.history['loss'], label='loss')\n",
        "plt.plot(r.history['val_loss'], label='val_loss')\n",
        "plt.legend()\n",
        "plt.show()"
      ],
      "metadata": {
        "colab": {
          "base_uri": "https://localhost:8080/",
          "height": 269
        },
        "id": "LwyVDf3tmo3O",
        "outputId": "4bcfd51f-a326-4d46-c477-4f4b97f989d9"
      },
      "execution_count": null,
      "outputs": [
        {
          "output_type": "display_data",
          "data": {
            "text/plain": [
              "<Figure size 432x288 with 1 Axes>"
            ],
            "image/png": "[encoded data removed]"
          },
          "metadata": {
            "needs_background": "light"
          }
        }
      ]
    },
    {
      "cell_type": "code",
      "source": [
        "plt.plot(r.history['accuracy'], label='accuracy')\n",
        "plt.plot(r.history['val_accuracy'], label='val_accuracy')\n",
        "plt.legend()\n",
        "plt.show()"
      ],
      "metadata": {
        "colab": {
          "base_uri": "https://localhost:8080/",
          "height": 265
        },
        "id": "lKgeuIhDnF2r",
        "outputId": "488db4de-22a2-4c25-8d63-b3f4e229d3b6"
      },
      "execution_count": null,
      "outputs": [
        {
          "output_type": "display_data",
          "data": {
            "text/plain": [
              "<Figure size 432x288 with 1 Axes>"
            ],
            "image/png": "[encoded data removed]"
          },
          "metadata": {
            "needs_background": "light"
          }
        }
      ]
    },
    {
      "cell_type": "code",
      "source": [
        "# returns loss and accuracy\n",
        "print(model.evaluate(x_test, y_test))"
      ],
      "metadata": {
        "colab": {
          "base_uri": "https://localhost:8080/"
        },
        "id": "SRwa0biwnL4y",
        "outputId": "42f0679f-9199-4a32-e075-7d75ec8fc03f"
      },
      "execution_count": null,
      "outputs": [
        {
          "output_type": "stream",
          "name": "stdout",
          "text": [
            "313/313 [==============================] - 1s 2ms/step - loss: 2.2103 - accuracy: 0.2266\n",
            "[2.2102866172790527, 0.22660000622272491]\n"
          ]
        }
      ]
    }
  ]
}