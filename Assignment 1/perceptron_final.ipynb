{
 "cells": [
  {
   "cell_type": "code",
   "execution_count": 1,
   "metadata": {},
   "outputs": [],
   "source": [
    "import numpy as np\n",
    "from math import exp\n",
    "from random import seed\n",
    "from random import random\n",
    "from tabulate import tabulate"
   ]
  },
  {
   "cell_type": "code",
   "execution_count": 2,
   "metadata": {},
   "outputs": [
    {
     "name": "stdout",
     "output_type": "stream",
     "text": [
      "[[1, 1], [1, 0], [0, 1], [0, 0]]\n"
     ]
    }
   ],
   "source": [
    "# Inputs\n",
    "\n",
    "inputs = [\n",
    "    [1,1],\n",
    "    [1,0],\n",
    "    [0,1],\n",
    "    [0,0]\n",
    "]\n",
    "\n",
    "print(inputs)"
   ]
  },
  {
   "cell_type": "code",
   "execution_count": 3,
   "metadata": {},
   "outputs": [
    {
     "name": "stdout",
     "output_type": "stream",
     "text": [
      "[ 1 -1 -1 -1]\n"
     ]
    }
   ],
   "source": [
    "# OR Gate\n",
    "#target = np.array([1,1,1,-1])\n",
    "\n",
    "# AND Gate\n",
    "target = np.array([1,-1,-1,-1])\n",
    "\n",
    "print(target)"
   ]
  },
  {
   "cell_type": "code",
   "execution_count": 6,
   "metadata": {},
   "outputs": [],
   "source": [
    "def perceptron(inputs, target, bias, eta, no_of_epoch, threshold):\n",
    "    dict = {}\n",
    "    seed(1)\n",
    "    \n",
    "    w = np.zeros(len(inputs[0]))\n",
    "    yin = np.zeros(len(inputs))\n",
    "    \n",
    "    for i in range(no_of_epoch):\n",
    "        row = []\n",
    "        row.append([\"x1\", \"x2\", \"w1\", \"w2\", \"bias\", \"y\", \"target\"])\n",
    "\n",
    "        for j in range(0,len(inputs)):\n",
    "            \n",
    "            # Updating Weights\n",
    "            for k in range(0,len(inputs[0])):\n",
    "                yin[j] += inputs[j][k] * w[k]\n",
    "         \n",
    "            # Updating bias\n",
    "            yin[j] += bias\n",
    "\n",
    "            # If yin value is > threshold then yin = 1, else 0    \n",
    "            yin[j] = np.where(yin[j] > threshold, 1, -1)\n",
    "\n",
    "            # Cheaking values with Target\n",
    "\n",
    "            if(target[j] != yin[j]):\n",
    "                for k in range(0,len(inputs[0])):\n",
    "                    w[k] = w[k] + eta * inputs[j][k] * target[j]\n",
    "                \n",
    "                bias = bias + eta * target[j]\n",
    "\n",
    "            r = []\n",
    "            for l in range(len(inputs[0])):\n",
    "                r.append(inputs[j][l])\n",
    "            for l in range(len(w)):\n",
    "                r.append(w[l])\n",
    "            r.extend([bias,yin[j],target[j]])\n",
    "                \n",
    "                \n",
    "            row.append(r)\n",
    "\n",
    "        epoch = \"Epoch \" + str(i+1)\n",
    "        dict.update({epoch: row})\n",
    "    \n",
    "    return dict\n"
   ]
  },
  {
   "cell_type": "code",
   "execution_count": 11,
   "metadata": {},
   "outputs": [],
   "source": [
    "dict = perceptron(inputs, target, 0, 1, 10, 0.2)"
   ]
  },
  {
   "cell_type": "code",
   "execution_count": 13,
   "metadata": {},
   "outputs": [
    {
     "name": "stdout",
     "output_type": "stream",
     "text": [
      "Epoch 1\n",
      "+----+----+-----+-----+----+------+--------+\n",
      "| x1 | x2 | w1  | w2  | b  |  y   | target |\n",
      "+----+----+-----+-----+----+------+--------+\n",
      "| 1  | 1  | 1.0 | 1.0 | 1  | -1.0 |   1    |\n",
      "| 1  | 0  | 0.0 | 1.0 | 0  | 1.0  |   -1   |\n",
      "| 0  | 1  | 0.0 | 0.0 | -1 | 1.0  |   -1   |\n",
      "| 0  | 0  | 0.0 | 0.0 | -1 | -1.0 |   -1   |\n",
      "+----+----+-----+-----+----+------+--------+\n",
      "Epoch 2\n",
      "+----+----+-----+-----+----+------+--------+\n",
      "| x1 | x2 | w1  | w2  | b  |  y   | target |\n",
      "+----+----+-----+-----+----+------+--------+\n",
      "| 1  | 1  | 1.0 | 1.0 | 0  | -1.0 |   1    |\n",
      "| 1  | 0  | 0.0 | 1.0 | -1 | 1.0  |   -1   |\n",
      "| 0  | 1  | 0.0 | 0.0 | -2 | 1.0  |   -1   |\n",
      "| 0  | 0  | 0.0 | 0.0 | -2 | -1.0 |   -1   |\n",
      "+----+----+-----+-----+----+------+--------+\n",
      "Epoch 3\n",
      "+----+----+-----+-----+----+------+--------+\n",
      "| x1 | x2 | w1  | w2  | b  |  y   | target |\n",
      "+----+----+-----+-----+----+------+--------+\n",
      "| 1  | 1  | 1.0 | 1.0 | -1 | -1.0 |   1    |\n",
      "| 1  | 0  | 0.0 | 1.0 | -2 | 1.0  |   -1   |\n",
      "| 0  | 1  | 0.0 | 1.0 | -2 | -1.0 |   -1   |\n",
      "| 0  | 0  | 0.0 | 1.0 | -2 | -1.0 |   -1   |\n",
      "+----+----+-----+-----+----+------+--------+\n",
      "Epoch 4\n",
      "+----+----+-----+-----+----+------+--------+\n",
      "| x1 | x2 | w1  | w2  | b  |  y   | target |\n",
      "+----+----+-----+-----+----+------+--------+\n",
      "| 1  | 1  | 1.0 | 2.0 | -1 | -1.0 |   1    |\n",
      "| 1  | 0  | 0.0 | 2.0 | -2 | 1.0  |   -1   |\n",
      "| 0  | 1  | 0.0 | 2.0 | -2 | -1.0 |   -1   |\n",
      "| 0  | 0  | 0.0 | 2.0 | -2 | -1.0 |   -1   |\n",
      "+----+----+-----+-----+----+------+--------+\n",
      "Epoch 5\n",
      "+----+----+-----+-----+----+------+--------+\n",
      "| x1 | x2 | w1  | w2  | b  |  y   | target |\n",
      "+----+----+-----+-----+----+------+--------+\n",
      "| 1  | 1  | 1.0 | 3.0 | -1 | -1.0 |   1    |\n",
      "| 1  | 0  | 0.0 | 3.0 | -2 | 1.0  |   -1   |\n",
      "| 0  | 1  | 0.0 | 3.0 | -2 | -1.0 |   -1   |\n",
      "| 0  | 0  | 0.0 | 3.0 | -2 | -1.0 |   -1   |\n",
      "+----+----+-----+-----+----+------+--------+\n",
      "Epoch 6\n",
      "+----+----+-----+-----+----+------+--------+\n",
      "| x1 | x2 | w1  | w2  | b  |  y   | target |\n",
      "+----+----+-----+-----+----+------+--------+\n",
      "| 1  | 1  | 1.0 | 4.0 | -1 | -1.0 |   1    |\n",
      "| 1  | 0  | 0.0 | 4.0 | -2 | 1.0  |   -1   |\n",
      "| 0  | 1  | 0.0 | 3.0 | -3 | 1.0  |   -1   |\n",
      "| 0  | 0  | 0.0 | 3.0 | -3 | -1.0 |   -1   |\n",
      "+----+----+-----+-----+----+------+--------+\n",
      "Epoch 7\n",
      "+----+----+-----+-----+----+------+--------+\n",
      "| x1 | x2 | w1  | w2  | b  |  y   | target |\n",
      "+----+----+-----+-----+----+------+--------+\n",
      "| 1  | 1  | 1.0 | 4.0 | -2 | -1.0 |   1    |\n",
      "| 1  | 0  | 1.0 | 4.0 | -2 | -1.0 |   -1   |\n",
      "| 0  | 1  | 1.0 | 3.0 | -3 | 1.0  |   -1   |\n",
      "| 0  | 0  | 1.0 | 3.0 | -3 | -1.0 |   -1   |\n",
      "+----+----+-----+-----+----+------+--------+\n",
      "Epoch 8\n",
      "+----+----+-----+-----+----+------+--------+\n",
      "| x1 | x2 | w1  | w2  | b  |  y   | target |\n",
      "+----+----+-----+-----+----+------+--------+\n",
      "| 1  | 1  | 2.0 | 4.0 | -2 | -1.0 |   1    |\n",
      "| 1  | 0  | 2.0 | 4.0 | -2 | -1.0 |   -1   |\n",
      "| 0  | 1  | 2.0 | 3.0 | -3 | 1.0  |   -1   |\n",
      "| 0  | 0  | 2.0 | 3.0 | -3 | -1.0 |   -1   |\n",
      "+----+----+-----+-----+----+------+--------+\n",
      "Epoch 9\n",
      "+----+----+-----+-----+----+------+--------+\n",
      "| x1 | x2 | w1  | w2  | b  |  y   | target |\n",
      "+----+----+-----+-----+----+------+--------+\n",
      "| 1  | 1  | 2.0 | 3.0 | -3 | 1.0  |   1    |\n",
      "| 1  | 0  | 2.0 | 3.0 | -3 | -1.0 |   -1   |\n",
      "| 0  | 1  | 2.0 | 2.0 | -4 | 1.0  |   -1   |\n",
      "| 0  | 0  | 2.0 | 2.0 | -4 | -1.0 |   -1   |\n",
      "+----+----+-----+-----+----+------+--------+\n",
      "Epoch 10\n",
      "+----+----+-----+-----+----+------+--------+\n",
      "| x1 | x2 | w1  | w2  | b  |  y   | target |\n",
      "+----+----+-----+-----+----+------+--------+\n",
      "| 1  | 1  | 2.0 | 2.0 | -4 | 1.0  |   1    |\n",
      "| 1  | 0  | 2.0 | 2.0 | -4 | -1.0 |   -1   |\n",
      "| 0  | 1  | 2.0 | 2.0 | -4 | -1.0 |   -1   |\n",
      "| 0  | 0  | 2.0 | 2.0 | -4 | -1.0 |   -1   |\n",
      "+----+----+-----+-----+----+------+--------+\n"
     ]
    }
   ],
   "source": [
    "for epoch, values in dict.items():\n",
    "    print(epoch)\n",
    "    print(tabulate(values,headers=\"firstrow\",tablefmt=\"pretty\"))"
   ]
  }
 ],
 "metadata": {
  "kernelspec": {
   "display_name": "Python 3.9.12 ('base')",
   "language": "python",
   "name": "python3"
  },
  "language_info": {
   "codemirror_mode": {
    "name": "ipython",
    "version": 3
   },
   "file_extension": ".py",
   "mimetype": "text/x-python",
   "name": "python",
   "nbconvert_exporter": "python",
   "pygments_lexer": "ipython3",
   "version": "3.9.12"
  },
  "orig_nbformat": 4,
  "vscode": {
   "interpreter": {
    "hash": "ad2bdc8ecc057115af97d19610ffacc2b4e99fae6737bb82f5d7fb13d2f2c186"
   }
  }
 },
 "nbformat": 4,
 "nbformat_minor": 2
}
