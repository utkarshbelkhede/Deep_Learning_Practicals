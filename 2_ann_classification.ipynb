{
 "cells": [
  {
   "cell_type": "code",
   "execution_count": 29,
   "metadata": {},
   "outputs": [],
   "source": [
    "## Classification using ANN (Telecom Churn Dataset)"
   ]
  },
  {
   "cell_type": "code",
   "execution_count": 30,
   "metadata": {},
   "outputs": [],
   "source": [
    "import numpy as np\n",
    "import pandas as pd\n",
    "\n",
    "from sklearn.compose import ColumnTransformer\n",
    "from sklearn.pipeline import Pipeline\n",
    "from sklearn.impute import SimpleImputer\n",
    "from sklearn.preprocessing import StandardScaler, OneHotEncoder, LabelEncoder\n",
    "from sklearn.model_selection import train_test_split\n",
    "from sklearn.metrics import  accuracy_score, confusion_matrix\n",
    "\n",
    "import matplotlib.pyplot as plt\n",
    "import seaborn as sns\n",
    "import warnings\n",
    "warnings.filterwarnings('ignore')\n",
    "%matplotlib inline\n",
    "\n",
    "from keras.models import Sequential\n",
    "from keras.layers import Dense\n",
    "from keras.callbacks import ModelCheckpoint\n",
    "\n",
    "np.random.seed(500)"
   ]
  },
  {
   "cell_type": "code",
   "execution_count": 31,
   "metadata": {},
   "outputs": [
    {
     "data": {
      "text/html": [
       "<div>\n",
       "<style scoped>\n",
       "    .dataframe tbody tr th:only-of-type {\n",
       "        vertical-align: middle;\n",
       "    }\n",
       "\n",
       "    .dataframe tbody tr th {\n",
       "        vertical-align: top;\n",
       "    }\n",
       "\n",
       "    .dataframe thead th {\n",
       "        text-align: right;\n",
       "    }\n",
       "</style>\n",
       "<table border=\"1\" class=\"dataframe\">\n",
       "  <thead>\n",
       "    <tr style=\"text-align: right;\">\n",
       "      <th></th>\n",
       "      <th>gender</th>\n",
       "      <th>SeniorCitizen</th>\n",
       "      <th>Partner</th>\n",
       "      <th>Dependents</th>\n",
       "      <th>tenure</th>\n",
       "      <th>PhoneService</th>\n",
       "      <th>MultipleLines</th>\n",
       "      <th>InternetService</th>\n",
       "      <th>OnlineSecurity</th>\n",
       "      <th>OnlineBackup</th>\n",
       "      <th>DeviceProtection</th>\n",
       "      <th>TechSupport</th>\n",
       "      <th>StreamingTV</th>\n",
       "      <th>StreamingMovies</th>\n",
       "      <th>Contract</th>\n",
       "      <th>PaperlessBilling</th>\n",
       "      <th>PaymentMethod</th>\n",
       "      <th>MonthlyCharges</th>\n",
       "      <th>TotalCharges</th>\n",
       "      <th>Churn</th>\n",
       "    </tr>\n",
       "  </thead>\n",
       "  <tbody>\n",
       "    <tr>\n",
       "      <th>0</th>\n",
       "      <td>Female</td>\n",
       "      <td>0</td>\n",
       "      <td>Yes</td>\n",
       "      <td>No</td>\n",
       "      <td>1</td>\n",
       "      <td>No</td>\n",
       "      <td>No phone service</td>\n",
       "      <td>DSL</td>\n",
       "      <td>No</td>\n",
       "      <td>Yes</td>\n",
       "      <td>No</td>\n",
       "      <td>No</td>\n",
       "      <td>No</td>\n",
       "      <td>No</td>\n",
       "      <td>Month-to-month</td>\n",
       "      <td>Yes</td>\n",
       "      <td>Electronic check</td>\n",
       "      <td>29.85</td>\n",
       "      <td>29.85</td>\n",
       "      <td>No</td>\n",
       "    </tr>\n",
       "    <tr>\n",
       "      <th>1</th>\n",
       "      <td>Male</td>\n",
       "      <td>0</td>\n",
       "      <td>No</td>\n",
       "      <td>No</td>\n",
       "      <td>34</td>\n",
       "      <td>Yes</td>\n",
       "      <td>No</td>\n",
       "      <td>DSL</td>\n",
       "      <td>Yes</td>\n",
       "      <td>No</td>\n",
       "      <td>Yes</td>\n",
       "      <td>No</td>\n",
       "      <td>No</td>\n",
       "      <td>No</td>\n",
       "      <td>One year</td>\n",
       "      <td>No</td>\n",
       "      <td>Mailed check</td>\n",
       "      <td>56.95</td>\n",
       "      <td>1889.5</td>\n",
       "      <td>No</td>\n",
       "    </tr>\n",
       "    <tr>\n",
       "      <th>2</th>\n",
       "      <td>Male</td>\n",
       "      <td>0</td>\n",
       "      <td>No</td>\n",
       "      <td>No</td>\n",
       "      <td>2</td>\n",
       "      <td>Yes</td>\n",
       "      <td>No</td>\n",
       "      <td>DSL</td>\n",
       "      <td>Yes</td>\n",
       "      <td>Yes</td>\n",
       "      <td>No</td>\n",
       "      <td>No</td>\n",
       "      <td>No</td>\n",
       "      <td>No</td>\n",
       "      <td>Month-to-month</td>\n",
       "      <td>Yes</td>\n",
       "      <td>Mailed check</td>\n",
       "      <td>53.85</td>\n",
       "      <td>108.15</td>\n",
       "      <td>Yes</td>\n",
       "    </tr>\n",
       "    <tr>\n",
       "      <th>3</th>\n",
       "      <td>Male</td>\n",
       "      <td>0</td>\n",
       "      <td>No</td>\n",
       "      <td>No</td>\n",
       "      <td>45</td>\n",
       "      <td>No</td>\n",
       "      <td>No phone service</td>\n",
       "      <td>DSL</td>\n",
       "      <td>Yes</td>\n",
       "      <td>No</td>\n",
       "      <td>Yes</td>\n",
       "      <td>Yes</td>\n",
       "      <td>No</td>\n",
       "      <td>No</td>\n",
       "      <td>One year</td>\n",
       "      <td>No</td>\n",
       "      <td>Bank transfer (automatic)</td>\n",
       "      <td>42.30</td>\n",
       "      <td>1840.75</td>\n",
       "      <td>No</td>\n",
       "    </tr>\n",
       "    <tr>\n",
       "      <th>4</th>\n",
       "      <td>Female</td>\n",
       "      <td>0</td>\n",
       "      <td>No</td>\n",
       "      <td>No</td>\n",
       "      <td>2</td>\n",
       "      <td>Yes</td>\n",
       "      <td>No</td>\n",
       "      <td>Fiber optic</td>\n",
       "      <td>No</td>\n",
       "      <td>No</td>\n",
       "      <td>No</td>\n",
       "      <td>No</td>\n",
       "      <td>No</td>\n",
       "      <td>No</td>\n",
       "      <td>Month-to-month</td>\n",
       "      <td>Yes</td>\n",
       "      <td>Electronic check</td>\n",
       "      <td>70.70</td>\n",
       "      <td>151.65</td>\n",
       "      <td>Yes</td>\n",
       "    </tr>\n",
       "  </tbody>\n",
       "</table>\n",
       "</div>"
      ],
      "text/plain": [
       "   gender  SeniorCitizen Partner Dependents  tenure PhoneService  \\\n",
       "0  Female              0     Yes         No       1           No   \n",
       "1    Male              0      No         No      34          Yes   \n",
       "2    Male              0      No         No       2          Yes   \n",
       "3    Male              0      No         No      45           No   \n",
       "4  Female              0      No         No       2          Yes   \n",
       "\n",
       "      MultipleLines InternetService OnlineSecurity OnlineBackup  \\\n",
       "0  No phone service             DSL             No          Yes   \n",
       "1                No             DSL            Yes           No   \n",
       "2                No             DSL            Yes          Yes   \n",
       "3  No phone service             DSL            Yes           No   \n",
       "4                No     Fiber optic             No           No   \n",
       "\n",
       "  DeviceProtection TechSupport StreamingTV StreamingMovies        Contract  \\\n",
       "0               No          No          No              No  Month-to-month   \n",
       "1              Yes          No          No              No        One year   \n",
       "2               No          No          No              No  Month-to-month   \n",
       "3              Yes         Yes          No              No        One year   \n",
       "4               No          No          No              No  Month-to-month   \n",
       "\n",
       "  PaperlessBilling              PaymentMethod  MonthlyCharges TotalCharges  \\\n",
       "0              Yes           Electronic check           29.85        29.85   \n",
       "1               No               Mailed check           56.95       1889.5   \n",
       "2              Yes               Mailed check           53.85       108.15   \n",
       "3               No  Bank transfer (automatic)           42.30      1840.75   \n",
       "4              Yes           Electronic check           70.70       151.65   \n",
       "\n",
       "  Churn  \n",
       "0    No  \n",
       "1    No  \n",
       "2   Yes  \n",
       "3    No  \n",
       "4   Yes  "
      ]
     },
     "execution_count": 31,
     "metadata": {},
     "output_type": "execute_result"
    }
   ],
   "source": [
    "telchurn = pd.read_csv(\"/home/ashwin/data_science/0ashwin/fy-msc-work/fy_sem2_prac/ml/3/Telecom_Churn_Data.csv\")\n",
    "telchurn.drop('customerID', axis=1, inplace=True)\n",
    "telchurn.head()"
   ]
  },
  {
   "cell_type": "code",
   "execution_count": 32,
   "metadata": {},
   "outputs": [
    {
     "data": {
      "text/html": [
       "<div>\n",
       "<style scoped>\n",
       "    .dataframe tbody tr th:only-of-type {\n",
       "        vertical-align: middle;\n",
       "    }\n",
       "\n",
       "    .dataframe tbody tr th {\n",
       "        vertical-align: top;\n",
       "    }\n",
       "\n",
       "    .dataframe thead th {\n",
       "        text-align: right;\n",
       "    }\n",
       "</style>\n",
       "<table border=\"1\" class=\"dataframe\">\n",
       "  <thead>\n",
       "    <tr style=\"text-align: right;\">\n",
       "      <th></th>\n",
       "      <th>SeniorCitizen</th>\n",
       "      <th>tenure</th>\n",
       "      <th>MonthlyCharges</th>\n",
       "    </tr>\n",
       "  </thead>\n",
       "  <tbody>\n",
       "    <tr>\n",
       "      <th>count</th>\n",
       "      <td>7043.000000</td>\n",
       "      <td>7043.000000</td>\n",
       "      <td>7043.000000</td>\n",
       "    </tr>\n",
       "    <tr>\n",
       "      <th>mean</th>\n",
       "      <td>0.162147</td>\n",
       "      <td>32.371149</td>\n",
       "      <td>64.761692</td>\n",
       "    </tr>\n",
       "    <tr>\n",
       "      <th>std</th>\n",
       "      <td>0.368612</td>\n",
       "      <td>24.559481</td>\n",
       "      <td>30.090047</td>\n",
       "    </tr>\n",
       "    <tr>\n",
       "      <th>min</th>\n",
       "      <td>0.000000</td>\n",
       "      <td>0.000000</td>\n",
       "      <td>18.250000</td>\n",
       "    </tr>\n",
       "    <tr>\n",
       "      <th>25%</th>\n",
       "      <td>0.000000</td>\n",
       "      <td>9.000000</td>\n",
       "      <td>35.500000</td>\n",
       "    </tr>\n",
       "    <tr>\n",
       "      <th>50%</th>\n",
       "      <td>0.000000</td>\n",
       "      <td>29.000000</td>\n",
       "      <td>70.350000</td>\n",
       "    </tr>\n",
       "    <tr>\n",
       "      <th>75%</th>\n",
       "      <td>0.000000</td>\n",
       "      <td>55.000000</td>\n",
       "      <td>89.850000</td>\n",
       "    </tr>\n",
       "    <tr>\n",
       "      <th>max</th>\n",
       "      <td>1.000000</td>\n",
       "      <td>72.000000</td>\n",
       "      <td>118.750000</td>\n",
       "    </tr>\n",
       "  </tbody>\n",
       "</table>\n",
       "</div>"
      ],
      "text/plain": [
       "       SeniorCitizen       tenure  MonthlyCharges\n",
       "count    7043.000000  7043.000000     7043.000000\n",
       "mean        0.162147    32.371149       64.761692\n",
       "std         0.368612    24.559481       30.090047\n",
       "min         0.000000     0.000000       18.250000\n",
       "25%         0.000000     9.000000       35.500000\n",
       "50%         0.000000    29.000000       70.350000\n",
       "75%         0.000000    55.000000       89.850000\n",
       "max         1.000000    72.000000      118.750000"
      ]
     },
     "execution_count": 32,
     "metadata": {},
     "output_type": "execute_result"
    }
   ],
   "source": [
    "telchurn.describe()"
   ]
  },
  {
   "cell_type": "code",
   "execution_count": 33,
   "metadata": {},
   "outputs": [
    {
     "data": {
      "text/plain": [
       "gender              0\n",
       "SeniorCitizen       0\n",
       "Partner             0\n",
       "Dependents          0\n",
       "tenure              0\n",
       "PhoneService        0\n",
       "MultipleLines       0\n",
       "InternetService     0\n",
       "OnlineSecurity      0\n",
       "OnlineBackup        0\n",
       "DeviceProtection    0\n",
       "TechSupport         0\n",
       "StreamingTV         0\n",
       "StreamingMovies     0\n",
       "Contract            0\n",
       "PaperlessBilling    0\n",
       "PaymentMethod       0\n",
       "MonthlyCharges      0\n",
       "TotalCharges        0\n",
       "Churn               0\n",
       "dtype: int64"
      ]
     },
     "execution_count": 33,
     "metadata": {},
     "output_type": "execute_result"
    }
   ],
   "source": [
    "# Check for missing values\n",
    "telchurn.isna().sum()"
   ]
  },
  {
   "cell_type": "code",
   "execution_count": 34,
   "metadata": {},
   "outputs": [],
   "source": [
    "# Converting to correct data types and Preprocessing\n",
    "telchurn.SeniorCitizen = telchurn.SeniorCitizen.astype(\"category\")\n",
    "telchurn[\"TotalCharges\"] = pd.to_numeric(telchurn[\"TotalCharges\"], errors='coerce')\n",
    "varlist =  ['PhoneService', 'PaperlessBilling', 'Churn', 'Partner', 'Dependents']\n",
    "telchurn[\"Churn\"] = telchurn[\"Churn\"].map({'Yes': 1, \"No\": 0})\n",
    "\n",
    "cat_cols = ['gender','SeniorCitizen', 'Partner','Dependents','PhoneService','MultipleLines',\n",
    "            'InternetService', 'OnlineSecurity', 'OnlineBackup', 'DeviceProtection',\n",
    "            'TechSupport', 'StreamingTV', 'StreamingMovies', 'Contract', 'PaperlessBilling',\n",
    "             'PaymentMethod', ]\n",
    "categorical_transformer = OneHotEncoder(handle_unknown=\"ignore\")\n",
    "\n",
    "num_cols = [\"TotalCharges\"]\n",
    "numeric_transformer = Pipeline(\n",
    "    steps=[(\"imputer\", SimpleImputer(strategy=\"median\")),\n",
    "    (\"scaler\", StandardScaler())]\n",
    ")\n",
    "\n",
    "\n",
    "preprocessor = ColumnTransformer(\n",
    "    transformers=[\n",
    "        (\"num\", numeric_transformer, num_cols),\n",
    "        (\"cat\", categorical_transformer, cat_cols),\n",
    "    ]\n",
    ")\n",
    "\n",
    "clf = Pipeline(\n",
    "    steps=[\n",
    "        (\"preprocessor\", preprocessor)]\n",
    ")\n",
    "\n",
    "X = telchurn.drop('Churn', axis=1)\n",
    "y = telchurn[\"Churn\"]\n",
    "X_train, X_test, y_train, y_test = train_test_split(X, y, test_size=0.2, random_state=101)\n",
    "X_train = clf.fit_transform(X_train)\n",
    "X_test = clf.transform(X_test)"
   ]
  },
  {
   "cell_type": "code",
   "execution_count": 35,
   "metadata": {},
   "outputs": [
    {
     "data": {
      "text/plain": [
       "(5634, 44)"
      ]
     },
     "execution_count": 35,
     "metadata": {},
     "output_type": "execute_result"
    }
   ],
   "source": [
    "X_train.shape"
   ]
  },
  {
   "cell_type": "code",
   "execution_count": 36,
   "metadata": {
    "id": "nsz-QLWJeNG8"
   },
   "outputs": [],
   "source": [
    "model = Sequential()\n",
    "model.add(Dense(16, input_dim=44,  activation='relu'))\n",
    "model.add(Dense(32, kernel_initializer='uniform'))\n",
    "model.add(Dense(32, activation='relu'))\n",
    "model.add(Dense(16, activation='relu'))\n",
    "model.add(Dense(1,  activation='sigmoid' ))"
   ]
  },
  {
   "cell_type": "code",
   "execution_count": 37,
   "metadata": {
    "id": "5ka1ms7weasL"
   },
   "outputs": [],
   "source": [
    "model.compile(loss='binary_crossentropy',   \n",
    "             optimizer='adam',\n",
    "             metrics=['accuracy'])"
   ]
  },
  {
   "cell_type": "code",
   "execution_count": 38,
   "metadata": {
    "id": "gnb6f8a0eiNT"
   },
   "outputs": [],
   "source": [
    "ckpt_model = 'telchurn.best.hdf5'\n",
    "checkpoint = ModelCheckpoint(ckpt_model, \n",
    "                            monitor='val_acc',\n",
    "                            verbose=1,\n",
    "                            save_best_only=True,\n",
    "                            mode='max')\n",
    "callbacks_list = [checkpoint]"
   ]
  },
  {
   "cell_type": "code",
   "execution_count": 39,
   "metadata": {
    "colab": {
     "base_uri": "https://localhost:8080/"
    },
    "id": "12jLOGZWemQb",
    "outputId": "6a012e6f-087f-439f-ceb7-a239146a68a9"
   },
   "outputs": [
    {
     "name": "stdout",
     "output_type": "stream",
     "text": [
      "Starting training...\n",
      "Epoch 1/50\n",
      "353/353 [==============================] - 1s 3ms/step - loss: 0.4668 - accuracy: 0.7764 - val_loss: 0.4443 - val_accuracy: 0.7935\n",
      "Epoch 2/50\n",
      "353/353 [==============================] - 1s 2ms/step - loss: 0.4266 - accuracy: 0.7922 - val_loss: 0.4471 - val_accuracy: 0.7800\n",
      "Epoch 3/50\n",
      "353/353 [==============================] - 1s 2ms/step - loss: 0.4199 - accuracy: 0.8009 - val_loss: 0.4441 - val_accuracy: 0.7963\n",
      "Epoch 4/50\n",
      "353/353 [==============================] - 1s 2ms/step - loss: 0.4168 - accuracy: 0.8019 - val_loss: 0.4434 - val_accuracy: 0.7885\n",
      "Epoch 5/50\n",
      "353/353 [==============================] - 1s 2ms/step - loss: 0.4129 - accuracy: 0.8087 - val_loss: 0.4420 - val_accuracy: 0.7928\n",
      "Epoch 6/50\n",
      "353/353 [==============================] - 1s 2ms/step - loss: 0.4111 - accuracy: 0.8080 - val_loss: 0.4447 - val_accuracy: 0.7871\n",
      "Epoch 7/50\n",
      "353/353 [==============================] - 1s 2ms/step - loss: 0.4090 - accuracy: 0.8103 - val_loss: 0.4381 - val_accuracy: 0.8006\n",
      "Epoch 8/50\n",
      "353/353 [==============================] - 1s 2ms/step - loss: 0.4050 - accuracy: 0.8094 - val_loss: 0.4407 - val_accuracy: 0.7956\n",
      "Epoch 9/50\n",
      "353/353 [==============================] - 1s 2ms/step - loss: 0.4036 - accuracy: 0.8131 - val_loss: 0.4405 - val_accuracy: 0.7928\n",
      "Epoch 10/50\n",
      "353/353 [==============================] - 1s 2ms/step - loss: 0.4012 - accuracy: 0.8159 - val_loss: 0.4487 - val_accuracy: 0.7842\n",
      "Epoch 11/50\n",
      "353/353 [==============================] - 1s 2ms/step - loss: 0.4014 - accuracy: 0.8126 - val_loss: 0.4411 - val_accuracy: 0.7928\n",
      "Epoch 12/50\n",
      "353/353 [==============================] - 1s 2ms/step - loss: 0.3979 - accuracy: 0.8168 - val_loss: 0.4448 - val_accuracy: 0.7857\n",
      "Epoch 13/50\n",
      "353/353 [==============================] - 1s 2ms/step - loss: 0.3975 - accuracy: 0.8158 - val_loss: 0.4473 - val_accuracy: 0.7835\n",
      "Epoch 14/50\n",
      "353/353 [==============================] - 1s 2ms/step - loss: 0.3962 - accuracy: 0.8188 - val_loss: 0.4489 - val_accuracy: 0.7892\n",
      "Epoch 15/50\n",
      "353/353 [==============================] - 1s 2ms/step - loss: 0.3973 - accuracy: 0.8191 - val_loss: 0.4438 - val_accuracy: 0.7942\n",
      "Epoch 16/50\n",
      "353/353 [==============================] - 1s 2ms/step - loss: 0.3929 - accuracy: 0.8213 - val_loss: 0.4507 - val_accuracy: 0.7899\n",
      "Epoch 17/50\n",
      "353/353 [==============================] - 1s 2ms/step - loss: 0.3924 - accuracy: 0.8195 - val_loss: 0.4497 - val_accuracy: 0.7871\n",
      "Epoch 18/50\n",
      "353/353 [==============================] - 1s 2ms/step - loss: 0.3914 - accuracy: 0.8223 - val_loss: 0.4498 - val_accuracy: 0.7878\n",
      "Epoch 19/50\n",
      "353/353 [==============================] - 1s 2ms/step - loss: 0.3892 - accuracy: 0.8223 - val_loss: 0.4543 - val_accuracy: 0.7921\n",
      "Epoch 20/50\n",
      "353/353 [==============================] - 1s 2ms/step - loss: 0.3884 - accuracy: 0.8222 - val_loss: 0.4496 - val_accuracy: 0.7828\n",
      "Epoch 21/50\n",
      "353/353 [==============================] - 1s 2ms/step - loss: 0.3880 - accuracy: 0.8225 - val_loss: 0.4476 - val_accuracy: 0.7828\n",
      "Epoch 22/50\n",
      "353/353 [==============================] - 1s 2ms/step - loss: 0.3862 - accuracy: 0.8232 - val_loss: 0.4535 - val_accuracy: 0.7892\n",
      "Epoch 23/50\n",
      "353/353 [==============================] - 1s 2ms/step - loss: 0.3866 - accuracy: 0.8291 - val_loss: 0.4591 - val_accuracy: 0.7835\n",
      "Epoch 24/50\n",
      "353/353 [==============================] - 1s 2ms/step - loss: 0.3871 - accuracy: 0.8220 - val_loss: 0.4512 - val_accuracy: 0.7814\n",
      "Epoch 25/50\n",
      "353/353 [==============================] - 1s 2ms/step - loss: 0.3847 - accuracy: 0.8220 - val_loss: 0.4710 - val_accuracy: 0.7807\n",
      "Epoch 26/50\n",
      "353/353 [==============================] - 1s 2ms/step - loss: 0.3840 - accuracy: 0.8266 - val_loss: 0.4520 - val_accuracy: 0.7807\n",
      "Epoch 27/50\n",
      "353/353 [==============================] - 1s 2ms/step - loss: 0.3832 - accuracy: 0.8268 - val_loss: 0.4587 - val_accuracy: 0.7835\n",
      "Epoch 28/50\n",
      "353/353 [==============================] - 1s 2ms/step - loss: 0.3832 - accuracy: 0.8257 - val_loss: 0.4594 - val_accuracy: 0.7864\n",
      "Epoch 29/50\n",
      "353/353 [==============================] - 1s 2ms/step - loss: 0.3793 - accuracy: 0.8268 - val_loss: 0.4708 - val_accuracy: 0.7786\n",
      "Epoch 30/50\n",
      "353/353 [==============================] - 1s 2ms/step - loss: 0.3795 - accuracy: 0.8266 - val_loss: 0.4516 - val_accuracy: 0.7793\n",
      "Epoch 31/50\n",
      "353/353 [==============================] - 1s 2ms/step - loss: 0.3786 - accuracy: 0.8257 - val_loss: 0.4665 - val_accuracy: 0.7814\n",
      "Epoch 32/50\n",
      "353/353 [==============================] - 1s 2ms/step - loss: 0.3781 - accuracy: 0.8273 - val_loss: 0.4582 - val_accuracy: 0.7864\n",
      "Epoch 33/50\n",
      "353/353 [==============================] - 1s 2ms/step - loss: 0.3780 - accuracy: 0.8264 - val_loss: 0.4626 - val_accuracy: 0.7793\n",
      "Epoch 34/50\n",
      "353/353 [==============================] - 1s 2ms/step - loss: 0.3759 - accuracy: 0.8259 - val_loss: 0.4598 - val_accuracy: 0.7807\n",
      "Epoch 35/50\n",
      "353/353 [==============================] - 1s 2ms/step - loss: 0.3741 - accuracy: 0.8319 - val_loss: 0.4718 - val_accuracy: 0.7779\n",
      "Epoch 36/50\n",
      "353/353 [==============================] - 1s 2ms/step - loss: 0.3724 - accuracy: 0.8312 - val_loss: 0.4845 - val_accuracy: 0.7757\n",
      "Epoch 37/50\n",
      "353/353 [==============================] - 1s 2ms/step - loss: 0.3719 - accuracy: 0.8298 - val_loss: 0.4712 - val_accuracy: 0.7793\n",
      "Epoch 38/50\n",
      "353/353 [==============================] - 1s 2ms/step - loss: 0.3691 - accuracy: 0.8316 - val_loss: 0.4693 - val_accuracy: 0.7828\n",
      "Epoch 39/50\n",
      "353/353 [==============================] - 1s 2ms/step - loss: 0.3701 - accuracy: 0.8307 - val_loss: 0.4723 - val_accuracy: 0.7814\n",
      "Epoch 40/50\n",
      "353/353 [==============================] - 1s 2ms/step - loss: 0.3711 - accuracy: 0.8285 - val_loss: 0.4721 - val_accuracy: 0.7771\n",
      "Epoch 41/50\n",
      "353/353 [==============================] - 1s 2ms/step - loss: 0.3688 - accuracy: 0.8326 - val_loss: 0.4919 - val_accuracy: 0.7750\n",
      "Epoch 42/50\n",
      "353/353 [==============================] - 1s 2ms/step - loss: 0.3675 - accuracy: 0.8333 - val_loss: 0.4709 - val_accuracy: 0.7779\n",
      "Epoch 43/50\n",
      "353/353 [==============================] - 1s 2ms/step - loss: 0.3661 - accuracy: 0.8307 - val_loss: 0.4665 - val_accuracy: 0.7757\n",
      "Epoch 44/50\n",
      "353/353 [==============================] - 1s 2ms/step - loss: 0.3652 - accuracy: 0.8317 - val_loss: 0.4770 - val_accuracy: 0.7793\n",
      "Epoch 45/50\n",
      "353/353 [==============================] - 1s 2ms/step - loss: 0.3639 - accuracy: 0.8362 - val_loss: 0.4779 - val_accuracy: 0.7722\n",
      "Epoch 46/50\n",
      "353/353 [==============================] - 1s 2ms/step - loss: 0.3635 - accuracy: 0.8337 - val_loss: 0.4853 - val_accuracy: 0.7736\n",
      "Epoch 47/50\n",
      "353/353 [==============================] - 1s 2ms/step - loss: 0.3617 - accuracy: 0.8371 - val_loss: 0.4731 - val_accuracy: 0.7693\n",
      "Epoch 48/50\n",
      "353/353 [==============================] - 1s 2ms/step - loss: 0.3624 - accuracy: 0.8349 - val_loss: 0.4655 - val_accuracy: 0.7729\n",
      "Epoch 49/50\n",
      "353/353 [==============================] - 1s 2ms/step - loss: 0.3609 - accuracy: 0.8335 - val_loss: 0.4698 - val_accuracy: 0.7715\n",
      "Epoch 50/50\n",
      "353/353 [==============================] - 1s 2ms/step - loss: 0.3589 - accuracy: 0.8397 - val_loss: 0.4787 - val_accuracy: 0.7729\n"
     ]
    }
   ],
   "source": [
    "print('Starting training...')\n",
    "# train the model, store the results for plotting\n",
    "history = model.fit(X_train,\n",
    "                    y_train.values,\n",
    "                    validation_data=(X_test, y_test.values),\n",
    "                    epochs=50,\n",
    "                    batch_size=16,\n",
    "                    )"
   ]
  },
  {
   "cell_type": "code",
   "execution_count": 40,
   "metadata": {
    "colab": {
     "base_uri": "https://localhost:8080/",
     "height": 295
    },
    "id": "l0fO96YynFEV",
    "outputId": "0ff13777-1422-4431-adba-b65428ea5e86"
   },
   "outputs": [
    {
     "data": {
      "image/png": "[encoded data removed]",
      "text/plain": [
       "<Figure size 640x480 with 1 Axes>"
      ]
     },
     "metadata": {},
     "output_type": "display_data"
    }
   ],
   "source": [
    "# Model accuracy\n",
    "plt.plot(history.history['accuracy'])\n",
    "plt.plot(history.history['val_accuracy'])\n",
    "plt.title('Model Accuracy')\n",
    "plt.ylabel('accuracy')\n",
    "plt.xlabel('epoch')\n",
    "plt.legend(['train', 'test'])\n",
    "plt.show()"
   ]
  },
  {
   "cell_type": "code",
   "execution_count": 41,
   "metadata": {
    "colab": {
     "base_uri": "https://localhost:8080/",
     "height": 295
    },
    "id": "I8Kh-UKIokGC",
    "outputId": "15921081-88b2-4293-c015-25cfc6464870"
   },
   "outputs": [
    {
     "data": {
      "image/png": "[encoded data removed]",
      "text/plain": [
       "<Figure size 640x480 with 1 Axes>"
      ]
     },
     "metadata": {},
     "output_type": "display_data"
    }
   ],
   "source": [
    "# Model Losss\n",
    "plt.plot(history.history['loss'])\n",
    "plt.plot(history.history['val_loss'])\n",
    "plt.title('Model Loss')\n",
    "plt.ylabel('loss')\n",
    "plt.xlabel('epoch')\n",
    "plt.legend(['train', 'test'])\n",
    "plt.show()"
   ]
  },
  {
   "cell_type": "code",
   "execution_count": 42,
   "metadata": {
    "colab": {
     "base_uri": "https://localhost:8080/"
    },
    "id": "c9cuu-6-on_n",
    "outputId": "4b5bf943-3c66-4ae8-df2b-029edbb64e8c"
   },
   "outputs": [
    {
     "name": "stdout",
     "output_type": "stream",
     "text": [
      "accuracy: 77.29%\n"
     ]
    }
   ],
   "source": [
    "# print final accuracy\n",
    "scores = model.evaluate(X_test, y_test, verbose=0)\n",
    "print(\"%s: %.2f%%\" % (model.metrics_names[1], scores[1]*100))"
   ]
  }
 ],
 "metadata": {
  "kernelspec": {
   "display_name": "Python 3.8.10 ('env4-allennlp': venv)",
   "language": "python",
   "name": "python3"
  },
  "language_info": {
   "codemirror_mode": {
    "name": "ipython",
    "version": 3
   },
   "file_extension": ".py",
   "mimetype": "text/x-python",
   "name": "python",
   "nbconvert_exporter": "python",
   "pygments_lexer": "ipython3",
   "version": "3.8.10"
  },
  "orig_nbformat": 4,
  "vscode": {
   "interpreter": {
    "hash": "9c3cc3a46ec81c4070e843cf067bf2839fd3c2d8e30031b941ed666797740f62"
   }
  }
 },
 "nbformat": 4,
 "nbformat_minor": 2
}
