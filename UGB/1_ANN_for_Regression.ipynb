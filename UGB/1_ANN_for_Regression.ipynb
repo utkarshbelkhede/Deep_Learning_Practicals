{
  "nbformat": 4,
  "nbformat_minor": 0,
  "metadata": {
    "colab": {
      "provenance": []
    },
    "kernelspec": {
      "name": "python3",
      "display_name": "Python 3"
    },
    "language_info": {
      "name": "python"
    }
  },
  "cells": [
    {
      "cell_type": "code",
      "execution_count": null,
      "metadata": {
        "id": "qXzVGbQK3Zjm"
      },
      "outputs": [],
      "source": [
        "from keras.datasets import boston_housing"
      ]
    },
    {
      "cell_type": "code",
      "source": [
        "(X_train, Y_train), (x_test, y_test) = boston_housing.load_data(path='boston_housing.npz', test_split= 0.2, seed= 113)"
      ],
      "metadata": {
        "id": "mVPaRCUp3vVc"
      },
      "execution_count": null,
      "outputs": []
    },
    {
      "cell_type": "code",
      "source": [
        "N, D = X_train.shape"
      ],
      "metadata": {
        "id": "GlsuzT2I4R1P"
      },
      "execution_count": null,
      "outputs": []
    },
    {
      "cell_type": "code",
      "source": [
        "from keras.models import Sequential\n",
        "from keras.layers import Dense\n",
        "from keras.optimizers import Adam\n",
        "from keras.losses import MeanSquaredError\n",
        "from keras.metrics import MeanAbsoluteError"
      ],
      "metadata": {
        "id": "Lxb4aUhq4d18"
      },
      "execution_count": null,
      "outputs": []
    },
    {
      "cell_type": "code",
      "source": [
        "from keras.engine.training import optimizers\n",
        "model = Sequential()\n",
        "\n",
        "model.add(Dense(256, input_shape=(D,)))\n",
        "model.add(Dense(128, activation='relu'))\n",
        "model.add(Dense(1))\n",
        "\n",
        "model.compile(\n",
        "    optimizer=Adam(0.0001),\n",
        "    loss=MeanSquaredError(),\n",
        "    metrics=MeanAbsoluteError()\n",
        ")"
      ],
      "metadata": {
        "id": "LuOUxvkw4z5S"
      },
      "execution_count": null,
      "outputs": []
    },
    {
      "cell_type": "code",
      "source": [
        "r = model.fit(\n",
        "    X_train, \n",
        "    Y_train, \n",
        "    validation_data=(x_test, y_test),\n",
        "    epochs=100\n",
        "  )"
      ],
      "metadata": {
        "colab": {
          "base_uri": "https://localhost:8080/"
        },
        "id": "5rtgyU986lfj",
        "outputId": "73928856-9c56-4542-9f9b-50b3067d58c4"
      },
      "execution_count": null,
      "outputs": [
        {
          "output_type": "stream",
          "name": "stdout",
          "text": [
            "Epoch 1/100\n",
            "13/13 [==============================] - 0s 11ms/step - loss: 888.9318 - mean_absolute_error: 22.7665 - val_loss: 379.3217 - val_mean_absolute_error: 16.6270\n",
            "Epoch 2/100\n",
            "13/13 [==============================] - 0s 5ms/step - loss: 148.5656 - mean_absolute_error: 9.2470 - val_loss: 115.6630 - val_mean_absolute_error: 9.1266\n",
            "Epoch 3/100\n",
            "13/13 [==============================] - 0s 3ms/step - loss: 98.4966 - mean_absolute_error: 8.0716 - val_loss: 90.8355 - val_mean_absolute_error: 7.0632\n",
            "Epoch 4/100\n",
            "13/13 [==============================] - 0s 3ms/step - loss: 72.0390 - mean_absolute_error: 6.0874 - val_loss: 67.1566 - val_mean_absolute_error: 6.3837\n",
            "Epoch 5/100\n",
            "13/13 [==============================] - 0s 3ms/step - loss: 59.6843 - mean_absolute_error: 5.5075 - val_loss: 66.1548 - val_mean_absolute_error: 5.9015\n",
            "Epoch 6/100\n",
            "13/13 [==============================] - 0s 3ms/step - loss: 58.0143 - mean_absolute_error: 5.2413 - val_loss: 60.4293 - val_mean_absolute_error: 6.0007\n",
            "Epoch 7/100\n",
            "13/13 [==============================] - 0s 5ms/step - loss: 56.3298 - mean_absolute_error: 5.2018 - val_loss: 59.3218 - val_mean_absolute_error: 5.6811\n",
            "Epoch 8/100\n",
            "13/13 [==============================] - 0s 3ms/step - loss: 54.7881 - mean_absolute_error: 5.2253 - val_loss: 59.0499 - val_mean_absolute_error: 5.6145\n",
            "Epoch 9/100\n",
            "13/13 [==============================] - 0s 3ms/step - loss: 52.6664 - mean_absolute_error: 4.9921 - val_loss: 57.3189 - val_mean_absolute_error: 5.5877\n",
            "Epoch 10/100\n",
            "13/13 [==============================] - 0s 4ms/step - loss: 52.3485 - mean_absolute_error: 5.1035 - val_loss: 58.0785 - val_mean_absolute_error: 5.5428\n",
            "Epoch 11/100\n",
            "13/13 [==============================] - 0s 4ms/step - loss: 51.6559 - mean_absolute_error: 4.9474 - val_loss: 57.0337 - val_mean_absolute_error: 5.5702\n",
            "Epoch 12/100\n",
            "13/13 [==============================] - 0s 3ms/step - loss: 51.5569 - mean_absolute_error: 5.0024 - val_loss: 56.0860 - val_mean_absolute_error: 5.5845\n",
            "Epoch 13/100\n",
            "13/13 [==============================] - 0s 3ms/step - loss: 50.6969 - mean_absolute_error: 5.0262 - val_loss: 58.1766 - val_mean_absolute_error: 5.5065\n",
            "Epoch 14/100\n",
            "13/13 [==============================] - 0s 3ms/step - loss: 51.2070 - mean_absolute_error: 4.9398 - val_loss: 56.5252 - val_mean_absolute_error: 5.6541\n",
            "Epoch 15/100\n",
            "13/13 [==============================] - 0s 4ms/step - loss: 50.9203 - mean_absolute_error: 4.9647 - val_loss: 55.5658 - val_mean_absolute_error: 5.4567\n",
            "Epoch 16/100\n",
            "13/13 [==============================] - 0s 3ms/step - loss: 49.6435 - mean_absolute_error: 4.8493 - val_loss: 54.8765 - val_mean_absolute_error: 5.4932\n",
            "Epoch 17/100\n",
            "13/13 [==============================] - 0s 4ms/step - loss: 50.6724 - mean_absolute_error: 4.9672 - val_loss: 55.1606 - val_mean_absolute_error: 5.4685\n",
            "Epoch 18/100\n",
            "13/13 [==============================] - 0s 6ms/step - loss: 49.1256 - mean_absolute_error: 4.9456 - val_loss: 55.1898 - val_mean_absolute_error: 5.3545\n",
            "Epoch 19/100\n",
            "13/13 [==============================] - 0s 4ms/step - loss: 49.0873 - mean_absolute_error: 4.9035 - val_loss: 54.4817 - val_mean_absolute_error: 5.3197\n",
            "Epoch 20/100\n",
            "13/13 [==============================] - 0s 3ms/step - loss: 48.8306 - mean_absolute_error: 4.8932 - val_loss: 56.6229 - val_mean_absolute_error: 5.3925\n",
            "Epoch 21/100\n",
            "13/13 [==============================] - 0s 4ms/step - loss: 48.4596 - mean_absolute_error: 4.7448 - val_loss: 53.3770 - val_mean_absolute_error: 5.3095\n",
            "Epoch 22/100\n",
            "13/13 [==============================] - 0s 3ms/step - loss: 49.0567 - mean_absolute_error: 4.9837 - val_loss: 52.9056 - val_mean_absolute_error: 5.3257\n",
            "Epoch 23/100\n",
            "13/13 [==============================] - 0s 5ms/step - loss: 49.8407 - mean_absolute_error: 4.8661 - val_loss: 55.4401 - val_mean_absolute_error: 5.6984\n",
            "Epoch 24/100\n",
            "13/13 [==============================] - 0s 3ms/step - loss: 48.3248 - mean_absolute_error: 4.8328 - val_loss: 52.6181 - val_mean_absolute_error: 5.3632\n",
            "Epoch 25/100\n",
            "13/13 [==============================] - 0s 3ms/step - loss: 46.7571 - mean_absolute_error: 4.6761 - val_loss: 51.7969 - val_mean_absolute_error: 5.2141\n",
            "Epoch 26/100\n",
            "13/13 [==============================] - 0s 3ms/step - loss: 47.3315 - mean_absolute_error: 4.8949 - val_loss: 52.7324 - val_mean_absolute_error: 5.1850\n",
            "Epoch 27/100\n",
            "13/13 [==============================] - 0s 3ms/step - loss: 46.1583 - mean_absolute_error: 4.7488 - val_loss: 53.4787 - val_mean_absolute_error: 5.1863\n",
            "Epoch 28/100\n",
            "13/13 [==============================] - 0s 4ms/step - loss: 46.4786 - mean_absolute_error: 4.7069 - val_loss: 51.1560 - val_mean_absolute_error: 5.1042\n",
            "Epoch 29/100\n",
            "13/13 [==============================] - 0s 3ms/step - loss: 44.6002 - mean_absolute_error: 4.6006 - val_loss: 51.2500 - val_mean_absolute_error: 5.2699\n",
            "Epoch 30/100\n",
            "13/13 [==============================] - 0s 3ms/step - loss: 45.1987 - mean_absolute_error: 4.6579 - val_loss: 49.4873 - val_mean_absolute_error: 5.0837\n",
            "Epoch 31/100\n",
            "13/13 [==============================] - 0s 3ms/step - loss: 45.9924 - mean_absolute_error: 4.7055 - val_loss: 51.0996 - val_mean_absolute_error: 5.2757\n",
            "Epoch 32/100\n",
            "13/13 [==============================] - 0s 3ms/step - loss: 44.4789 - mean_absolute_error: 4.7643 - val_loss: 50.2391 - val_mean_absolute_error: 5.0199\n",
            "Epoch 33/100\n",
            "13/13 [==============================] - 0s 3ms/step - loss: 45.9901 - mean_absolute_error: 4.6654 - val_loss: 49.6247 - val_mean_absolute_error: 5.0815\n",
            "Epoch 34/100\n",
            "13/13 [==============================] - 0s 3ms/step - loss: 43.6686 - mean_absolute_error: 4.5923 - val_loss: 48.0474 - val_mean_absolute_error: 4.9882\n",
            "Epoch 35/100\n",
            "13/13 [==============================] - 0s 3ms/step - loss: 43.0948 - mean_absolute_error: 4.5503 - val_loss: 49.3605 - val_mean_absolute_error: 5.2392\n",
            "Epoch 36/100\n",
            "13/13 [==============================] - 0s 4ms/step - loss: 43.9621 - mean_absolute_error: 4.6756 - val_loss: 48.8338 - val_mean_absolute_error: 5.2327\n",
            "Epoch 37/100\n",
            "13/13 [==============================] - 0s 4ms/step - loss: 42.7119 - mean_absolute_error: 4.5076 - val_loss: 47.2709 - val_mean_absolute_error: 5.0092\n",
            "Epoch 38/100\n",
            "13/13 [==============================] - 0s 3ms/step - loss: 43.0245 - mean_absolute_error: 4.5815 - val_loss: 46.7809 - val_mean_absolute_error: 4.9761\n",
            "Epoch 39/100\n",
            "13/13 [==============================] - 0s 3ms/step - loss: 42.1673 - mean_absolute_error: 4.6051 - val_loss: 54.3441 - val_mean_absolute_error: 5.8792\n",
            "Epoch 40/100\n",
            "13/13 [==============================] - 0s 3ms/step - loss: 44.0448 - mean_absolute_error: 4.7096 - val_loss: 48.0634 - val_mean_absolute_error: 5.2472\n",
            "Epoch 41/100\n",
            "13/13 [==============================] - 0s 5ms/step - loss: 41.8079 - mean_absolute_error: 4.5280 - val_loss: 46.7053 - val_mean_absolute_error: 4.8932\n",
            "Epoch 42/100\n",
            "13/13 [==============================] - 0s 4ms/step - loss: 42.3704 - mean_absolute_error: 4.5497 - val_loss: 45.9612 - val_mean_absolute_error: 4.8630\n",
            "Epoch 43/100\n",
            "13/13 [==============================] - 0s 3ms/step - loss: 43.2423 - mean_absolute_error: 4.5818 - val_loss: 52.0969 - val_mean_absolute_error: 4.9712\n",
            "Epoch 44/100\n",
            "13/13 [==============================] - 0s 4ms/step - loss: 42.2325 - mean_absolute_error: 4.5336 - val_loss: 45.8628 - val_mean_absolute_error: 4.7809\n",
            "Epoch 45/100\n",
            "13/13 [==============================] - 0s 3ms/step - loss: 40.1651 - mean_absolute_error: 4.3719 - val_loss: 44.7293 - val_mean_absolute_error: 4.9252\n",
            "Epoch 46/100\n",
            "13/13 [==============================] - 0s 3ms/step - loss: 40.2511 - mean_absolute_error: 4.5212 - val_loss: 44.7579 - val_mean_absolute_error: 4.7726\n",
            "Epoch 47/100\n",
            "13/13 [==============================] - 0s 3ms/step - loss: 41.8745 - mean_absolute_error: 4.4862 - val_loss: 49.9673 - val_mean_absolute_error: 4.8572\n",
            "Epoch 48/100\n",
            "13/13 [==============================] - 0s 3ms/step - loss: 40.5347 - mean_absolute_error: 4.4536 - val_loss: 47.4683 - val_mean_absolute_error: 4.7831\n",
            "Epoch 49/100\n",
            "13/13 [==============================] - 0s 5ms/step - loss: 39.6110 - mean_absolute_error: 4.3961 - val_loss: 43.8531 - val_mean_absolute_error: 4.6579\n",
            "Epoch 50/100\n",
            "13/13 [==============================] - 0s 4ms/step - loss: 38.6703 - mean_absolute_error: 4.3479 - val_loss: 43.8685 - val_mean_absolute_error: 4.6151\n",
            "Epoch 51/100\n",
            "13/13 [==============================] - 0s 3ms/step - loss: 39.7159 - mean_absolute_error: 4.4273 - val_loss: 50.7277 - val_mean_absolute_error: 4.9000\n",
            "Epoch 52/100\n",
            "13/13 [==============================] - 0s 3ms/step - loss: 43.2885 - mean_absolute_error: 4.6742 - val_loss: 42.2697 - val_mean_absolute_error: 4.6209\n",
            "Epoch 53/100\n",
            "13/13 [==============================] - 0s 3ms/step - loss: 39.3030 - mean_absolute_error: 4.4802 - val_loss: 44.1227 - val_mean_absolute_error: 4.9281\n",
            "Epoch 54/100\n",
            "13/13 [==============================] - 0s 3ms/step - loss: 37.5529 - mean_absolute_error: 4.2386 - val_loss: 41.7899 - val_mean_absolute_error: 4.5781\n",
            "Epoch 55/100\n",
            "13/13 [==============================] - 0s 4ms/step - loss: 37.4677 - mean_absolute_error: 4.2972 - val_loss: 44.0904 - val_mean_absolute_error: 4.8846\n",
            "Epoch 56/100\n",
            "13/13 [==============================] - 0s 3ms/step - loss: 39.0355 - mean_absolute_error: 4.4494 - val_loss: 44.3505 - val_mean_absolute_error: 4.5358\n",
            "Epoch 57/100\n",
            "13/13 [==============================] - 0s 3ms/step - loss: 37.9979 - mean_absolute_error: 4.3450 - val_loss: 43.8087 - val_mean_absolute_error: 4.5759\n",
            "Epoch 58/100\n",
            "13/13 [==============================] - 0s 3ms/step - loss: 37.6932 - mean_absolute_error: 4.2856 - val_loss: 41.7848 - val_mean_absolute_error: 4.7893\n",
            "Epoch 59/100\n",
            "13/13 [==============================] - 0s 3ms/step - loss: 37.6672 - mean_absolute_error: 4.3492 - val_loss: 42.3885 - val_mean_absolute_error: 4.4946\n",
            "Epoch 60/100\n",
            "13/13 [==============================] - 0s 3ms/step - loss: 37.6077 - mean_absolute_error: 4.3366 - val_loss: 40.4958 - val_mean_absolute_error: 4.5327\n",
            "Epoch 61/100\n",
            "13/13 [==============================] - 0s 5ms/step - loss: 37.0243 - mean_absolute_error: 4.2771 - val_loss: 41.5359 - val_mean_absolute_error: 4.7946\n",
            "Epoch 62/100\n",
            "13/13 [==============================] - 0s 3ms/step - loss: 38.7985 - mean_absolute_error: 4.4329 - val_loss: 41.6771 - val_mean_absolute_error: 4.8646\n",
            "Epoch 63/100\n",
            "13/13 [==============================] - 0s 4ms/step - loss: 36.2518 - mean_absolute_error: 4.2427 - val_loss: 43.2692 - val_mean_absolute_error: 4.9096\n",
            "Epoch 64/100\n",
            "13/13 [==============================] - 0s 3ms/step - loss: 36.9970 - mean_absolute_error: 4.3747 - val_loss: 44.3861 - val_mean_absolute_error: 5.2057\n",
            "Epoch 65/100\n",
            "13/13 [==============================] - 0s 5ms/step - loss: 39.6906 - mean_absolute_error: 4.4288 - val_loss: 40.2782 - val_mean_absolute_error: 4.3899\n",
            "Epoch 66/100\n",
            "13/13 [==============================] - 0s 3ms/step - loss: 38.3607 - mean_absolute_error: 4.4012 - val_loss: 43.7288 - val_mean_absolute_error: 4.5066\n",
            "Epoch 67/100\n",
            "13/13 [==============================] - 0s 3ms/step - loss: 37.6266 - mean_absolute_error: 4.3777 - val_loss: 45.1394 - val_mean_absolute_error: 4.6340\n",
            "Epoch 68/100\n",
            "13/13 [==============================] - 0s 3ms/step - loss: 37.3230 - mean_absolute_error: 4.4885 - val_loss: 46.3706 - val_mean_absolute_error: 4.6719\n",
            "Epoch 69/100\n",
            "13/13 [==============================] - 0s 3ms/step - loss: 36.2920 - mean_absolute_error: 4.3319 - val_loss: 38.6445 - val_mean_absolute_error: 4.3211\n",
            "Epoch 70/100\n",
            "13/13 [==============================] - 0s 3ms/step - loss: 35.0356 - mean_absolute_error: 4.1829 - val_loss: 39.5630 - val_mean_absolute_error: 4.5481\n",
            "Epoch 71/100\n",
            "13/13 [==============================] - 0s 3ms/step - loss: 37.4031 - mean_absolute_error: 4.4167 - val_loss: 45.2580 - val_mean_absolute_error: 4.6246\n",
            "Epoch 72/100\n",
            "13/13 [==============================] - 0s 3ms/step - loss: 37.1875 - mean_absolute_error: 4.3733 - val_loss: 37.9483 - val_mean_absolute_error: 4.2775\n",
            "Epoch 73/100\n",
            "13/13 [==============================] - 0s 3ms/step - loss: 35.9604 - mean_absolute_error: 4.2761 - val_loss: 40.3939 - val_mean_absolute_error: 4.6903\n",
            "Epoch 74/100\n",
            "13/13 [==============================] - 0s 3ms/step - loss: 36.9036 - mean_absolute_error: 4.3914 - val_loss: 42.0550 - val_mean_absolute_error: 5.0633\n",
            "Epoch 75/100\n",
            "13/13 [==============================] - 0s 4ms/step - loss: 36.6271 - mean_absolute_error: 4.2634 - val_loss: 40.2264 - val_mean_absolute_error: 4.3461\n",
            "Epoch 76/100\n",
            "13/13 [==============================] - 0s 3ms/step - loss: 35.9647 - mean_absolute_error: 4.2915 - val_loss: 41.3959 - val_mean_absolute_error: 4.4261\n",
            "Epoch 77/100\n",
            "13/13 [==============================] - 0s 4ms/step - loss: 36.0415 - mean_absolute_error: 4.2447 - val_loss: 38.6482 - val_mean_absolute_error: 4.4797\n",
            "Epoch 78/100\n",
            "13/13 [==============================] - 0s 4ms/step - loss: 34.8870 - mean_absolute_error: 4.2655 - val_loss: 37.7030 - val_mean_absolute_error: 4.5433\n",
            "Epoch 79/100\n",
            "13/13 [==============================] - 0s 3ms/step - loss: 37.0993 - mean_absolute_error: 4.3510 - val_loss: 49.8037 - val_mean_absolute_error: 5.8921\n",
            "Epoch 80/100\n",
            "13/13 [==============================] - 0s 4ms/step - loss: 36.1221 - mean_absolute_error: 4.4128 - val_loss: 40.3643 - val_mean_absolute_error: 4.8664\n",
            "Epoch 81/100\n",
            "13/13 [==============================] - 0s 3ms/step - loss: 34.7938 - mean_absolute_error: 4.2618 - val_loss: 36.8417 - val_mean_absolute_error: 4.3644\n",
            "Epoch 82/100\n",
            "13/13 [==============================] - 0s 4ms/step - loss: 34.1259 - mean_absolute_error: 4.1137 - val_loss: 42.9315 - val_mean_absolute_error: 5.1106\n",
            "Epoch 83/100\n",
            "13/13 [==============================] - 0s 3ms/step - loss: 34.9906 - mean_absolute_error: 4.2923 - val_loss: 36.8797 - val_mean_absolute_error: 4.4421\n",
            "Epoch 84/100\n",
            "13/13 [==============================] - 0s 3ms/step - loss: 35.8542 - mean_absolute_error: 4.3661 - val_loss: 36.8963 - val_mean_absolute_error: 4.1984\n",
            "Epoch 85/100\n",
            "13/13 [==============================] - 0s 3ms/step - loss: 37.5987 - mean_absolute_error: 4.4081 - val_loss: 41.0352 - val_mean_absolute_error: 4.3737\n",
            "Epoch 86/100\n",
            "13/13 [==============================] - 0s 4ms/step - loss: 36.6382 - mean_absolute_error: 4.3155 - val_loss: 35.8684 - val_mean_absolute_error: 4.2119\n",
            "Epoch 87/100\n",
            "13/13 [==============================] - 0s 4ms/step - loss: 33.9236 - mean_absolute_error: 4.1718 - val_loss: 37.5382 - val_mean_absolute_error: 4.2846\n",
            "Epoch 88/100\n",
            "13/13 [==============================] - 0s 3ms/step - loss: 33.2805 - mean_absolute_error: 4.1397 - val_loss: 36.4371 - val_mean_absolute_error: 4.4552\n",
            "Epoch 89/100\n",
            "13/13 [==============================] - 0s 3ms/step - loss: 33.5844 - mean_absolute_error: 4.1269 - val_loss: 37.8294 - val_mean_absolute_error: 4.6509\n",
            "Epoch 90/100\n",
            "13/13 [==============================] - 0s 5ms/step - loss: 37.6836 - mean_absolute_error: 4.5761 - val_loss: 35.5735 - val_mean_absolute_error: 4.3344\n",
            "Epoch 91/100\n",
            "13/13 [==============================] - 0s 3ms/step - loss: 33.0951 - mean_absolute_error: 4.1108 - val_loss: 35.7358 - val_mean_absolute_error: 4.2418\n",
            "Epoch 92/100\n",
            "13/13 [==============================] - 0s 3ms/step - loss: 32.4153 - mean_absolute_error: 4.1024 - val_loss: 35.9574 - val_mean_absolute_error: 4.1143\n",
            "Epoch 93/100\n",
            "13/13 [==============================] - 0s 5ms/step - loss: 33.1013 - mean_absolute_error: 4.1580 - val_loss: 40.5798 - val_mean_absolute_error: 5.0107\n",
            "Epoch 94/100\n",
            "13/13 [==============================] - 0s 3ms/step - loss: 35.1187 - mean_absolute_error: 4.3759 - val_loss: 36.2098 - val_mean_absolute_error: 4.1399\n",
            "Epoch 95/100\n",
            "13/13 [==============================] - 0s 3ms/step - loss: 34.0065 - mean_absolute_error: 4.1404 - val_loss: 35.9276 - val_mean_absolute_error: 4.1595\n",
            "Epoch 96/100\n",
            "13/13 [==============================] - 0s 3ms/step - loss: 32.5756 - mean_absolute_error: 4.1182 - val_loss: 34.7090 - val_mean_absolute_error: 4.2787\n",
            "Epoch 97/100\n",
            "13/13 [==============================] - 0s 5ms/step - loss: 32.3124 - mean_absolute_error: 4.2343 - val_loss: 37.5992 - val_mean_absolute_error: 4.2222\n",
            "Epoch 98/100\n",
            "13/13 [==============================] - 0s 3ms/step - loss: 33.1640 - mean_absolute_error: 4.1413 - val_loss: 36.3582 - val_mean_absolute_error: 4.5671\n",
            "Epoch 99/100\n",
            "13/13 [==============================] - 0s 4ms/step - loss: 33.5500 - mean_absolute_error: 4.2346 - val_loss: 35.5250 - val_mean_absolute_error: 4.3769\n",
            "Epoch 100/100\n",
            "13/13 [==============================] - 0s 5ms/step - loss: 34.0815 - mean_absolute_error: 4.2520 - val_loss: 35.0988 - val_mean_absolute_error: 4.4126\n"
          ]
        }
      ]
    },
    {
      "cell_type": "code",
      "source": [
        "import matplotlib.pyplot as plt\n",
        "\n",
        "plt.plot(r.history['loss'], label='loss')\n",
        "plt.plot(r.history['val_loss'], label='val_loss')\n",
        "plt.legend()\n",
        "plt.show()"
      ],
      "metadata": {
        "id": "9mVdXpdM68LA",
        "colab": {
          "base_uri": "https://localhost:8080/",
          "height": 265
        },
        "outputId": "bae0c5a1-ba1b-4f64-f2df-a42ac883a217"
      },
      "execution_count": null,
      "outputs": [
        {
          "output_type": "display_data",
          "data": {
            "text/plain": [
              "<Figure size 432x288 with 1 Axes>"
            ],
            "image/png": "[encoded data removed]"
          },
          "metadata": {
            "needs_background": "light"
          }
        }
      ]
    },
    {
      "cell_type": "code",
      "source": [
        "plt.plot(r.history['mean_absolute_error'], label='mean_absolute_error')\n",
        "plt.plot(r.history['val_mean_absolute_error'], label='val_mean_absolute_error')\n",
        "plt.legend()\n",
        "plt.show()"
      ],
      "metadata": {
        "colab": {
          "base_uri": "https://localhost:8080/",
          "height": 265
        },
        "id": "5eDOWCvhbP_7",
        "outputId": "6e43fa68-8bce-41ec-c834-99e8d00d0a16"
      },
      "execution_count": null,
      "outputs": [
        {
          "output_type": "display_data",
          "data": {
            "text/plain": [
              "<Figure size 432x288 with 1 Axes>"
            ],
            "image/png": "[encoded data removed]"
          },
          "metadata": {
            "needs_background": "light"
          }
        }
      ]
    },
    {
      "cell_type": "code",
      "source": [],
      "metadata": {
        "id": "RBwMSMnNdUUM"
      },
      "execution_count": null,
      "outputs": []
    }
  ]
}